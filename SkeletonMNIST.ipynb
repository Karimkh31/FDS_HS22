{
  "cells": [
    {
      "cell_type": "markdown",
      "metadata": {
        "id": "view-in-github",
        "colab_type": "text"
      },
      "source": [
        "<a href=\"https://colab.research.google.com/github/Karimkh31/FDS_HS22/blob/main/SkeletonMNIST.ipynb\" target=\"_parent\"><img src=\"https://colab.research.google.com/assets/colab-badge.svg\" alt=\"Open In Colab\"/></a>"
      ]
    },
    {
      "cell_type": "markdown",
      "metadata": {
        "id": "XI76jvh15LA1"
      },
      "source": [
        "# Practical 3: MNIST\n",
        "\n",
        "This is the first task of Practical 3. Your task is to build a (convolutional) neural network to classify the handwritten digits from the MNIST dataset (http://yann.lecun.com/exdb/mnist/). \n",
        "\n",
        "You should get an accuracy of **at least 97%** to pass the practical. \n",
        "\n",
        "The model files might be too large to be uploaded to GitHub. \n",
        "Please use the following link to upload your models: https://seafile.ifi.uzh.ch/u/d/695f63e725b641ed8633/\n",
        "\n",
        "Name the model file `{repository_name}-MNIST.h5`. For example, if your repository is FDS22-M0, you should name the model file `FDS22-M0-MNIST.h5`. If you are not satisfied with the model you have uploaded, you can upload a new one with the same name. We will only look at the newest model. Nevertheless, try to upload as few times as possible, since the online drive has a limited amount of space. "
      ]
    },
    {
      "cell_type": "markdown",
      "metadata": {
        "id": "nphq23Rc5LA2"
      },
      "source": [
        "## Import the libraries"
      ]
    },
    {
      "cell_type": "code",
      "execution_count": 35,
      "metadata": {
        "id": "-0S0qVgJ5LA3"
      },
      "outputs": [],
      "source": [
        "import numpy as np\n",
        "import pandas as pd\n",
        "import matplotlib.pyplot as plt\n",
        "\n",
        "import tensorflow as tf\n",
        "from tensorflow import keras"
      ]
    },
    {
      "cell_type": "code",
      "execution_count": 36,
      "metadata": {
        "colab": {
          "base_uri": "https://localhost:8080/",
          "height": 36
        },
        "id": "WpXPQfL75LA3",
        "outputId": "4f580c1e-eee5-48ff-a830-8549efb7d269"
      },
      "outputs": [
        {
          "output_type": "execute_result",
          "data": {
            "text/plain": [
              "'2.9.2'"
            ],
            "application/vnd.google.colaboratory.intrinsic+json": {
              "type": "string"
            }
          },
          "metadata": {},
          "execution_count": 36
        }
      ],
      "source": [
        "tf.__version__"
      ]
    },
    {
      "cell_type": "code",
      "execution_count": 37,
      "metadata": {
        "colab": {
          "base_uri": "https://localhost:8080/",
          "height": 36
        },
        "id": "6LF_ujTi5LA4",
        "outputId": "ec759e34-fb5b-4e8b-952a-54a12e1d4fce"
      },
      "outputs": [
        {
          "output_type": "execute_result",
          "data": {
            "text/plain": [
              "'2.9.0'"
            ],
            "application/vnd.google.colaboratory.intrinsic+json": {
              "type": "string"
            }
          },
          "metadata": {},
          "execution_count": 37
        }
      ],
      "source": [
        "tf.keras.__version__"
      ]
    },
    {
      "cell_type": "markdown",
      "metadata": {
        "id": "a8tP6pZO5LA4"
      },
      "source": [
        "## Prepare the dataset\n",
        "\n",
        "In this block, you will prepare the data for the training, such as normalisation. "
      ]
    },
    {
      "cell_type": "code",
      "execution_count": 38,
      "metadata": {
        "colab": {
          "base_uri": "https://localhost:8080/",
          "height": 342
        },
        "id": "qrvvYnT45LA4",
        "outputId": "7fab6188-4016-4589-9df1-ea4e0819a7ba"
      },
      "outputs": [
        {
          "output_type": "display_data",
          "data": {
            "text/plain": [
              "<Figure size 432x288 with 9 Axes>"
            ],
            "image/png": "[encoded data removed]"
          },
          "metadata": {
            "needs_background": "light"
          }
        },
        {
          "output_type": "stream",
          "name": "stdout",
          "text": [
            "(60000, 28, 28)\n",
            "(10000, 28, 28)\n",
            "(60000,)\n",
            "5\n"
          ]
        }
      ],
      "source": [
        "from keras.datasets import mnist\n",
        "(X_train_full, y_train_full), (X_test, y_test) = mnist.load_data()\n",
        "\n",
        "for i in range(0,9):\n",
        "    plt.subplot(330 + 1 + i)\n",
        "    plt.imshow(X_train_full[i])\n",
        "plt.show()\n",
        "\n",
        "print(X_train_full.shape)\n",
        "print(X_test.shape)\n",
        "\n",
        "print(y_train_full.shape)\n",
        "print(y_train_full[0])"
      ]
    },
    {
      "cell_type": "code",
      "source": [
        "y_train_full = keras.utils.to_categorical(y_train_full, num_classes=10)\n",
        "y_test = keras.utils.to_categorical(y_test, num_classes=10)\n",
        "\n",
        "# normalisation\n",
        "X_train_full = X_train_full/255.0\n",
        "X_test = X_test/255.0\n",
        "\n",
        "\n",
        "np.random.seed(42) \n",
        "shuffled_indices = np.random.permutation(X_train_full.shape[0])\n",
        "X_valid, X_train = X_train_full[shuffled_indices[:5000]], X_train_full[shuffled_indices[5000:]]\n",
        "y_valid, y_train = y_train_full[shuffled_indices[:5000]], y_train_full[shuffled_indices[5000:]]\n"
      ],
      "metadata": {
        "id": "z850b43g-dED"
      },
      "execution_count": 39,
      "outputs": []
    },
    {
      "cell_type": "code",
      "source": [
        "y_train_full[4]"
      ],
      "metadata": {
        "colab": {
          "base_uri": "https://localhost:8080/"
        },
        "id": "JYUh9qjq8hCQ",
        "outputId": "78395ebb-a4d1-4f0b-a00a-dc4aa57b49f3"
      },
      "execution_count": 40,
      "outputs": [
        {
          "output_type": "execute_result",
          "data": {
            "text/plain": [
              "array([0., 0., 0., 0., 0., 0., 0., 0., 0., 1.], dtype=float32)"
            ]
          },
          "metadata": {},
          "execution_count": 40
        }
      ]
    },
    {
      "cell_type": "markdown",
      "metadata": {
        "id": "wIURbMOC5LA4"
      },
      "source": [
        "## Build and train the model\n",
        "\n",
        "Build and train your model. "
      ]
    },
    {
      "cell_type": "code",
      "execution_count": 41,
      "metadata": {
        "id": "FbCX4i4L5LA5",
        "colab": {
          "base_uri": "https://localhost:8080/"
        },
        "outputId": "0927c618-8658-42c1-f6ac-96f8c92a8341"
      },
      "outputs": [
        {
          "output_type": "stream",
          "name": "stdout",
          "text": [
            "Epoch 1/10\n",
            "1834/1834 [==============================] - 10s 5ms/step - loss: 0.6072 - accuracy: 0.8078 - val_loss: 0.1966 - val_accuracy: 0.9404\n",
            "Epoch 2/10\n",
            "1834/1834 [==============================] - 9s 5ms/step - loss: 0.3514 - accuracy: 0.8924 - val_loss: 0.1478 - val_accuracy: 0.9550\n",
            "Epoch 3/10\n",
            "1834/1834 [==============================] - 10s 5ms/step - loss: 0.2924 - accuracy: 0.9100 - val_loss: 0.1226 - val_accuracy: 0.9602\n",
            "Epoch 4/10\n",
            "1834/1834 [==============================] - 9s 5ms/step - loss: 0.2554 - accuracy: 0.9204 - val_loss: 0.1134 - val_accuracy: 0.9650\n",
            "Epoch 5/10\n",
            "1834/1834 [==============================] - 9s 5ms/step - loss: 0.2287 - accuracy: 0.9294 - val_loss: 0.1003 - val_accuracy: 0.9688\n",
            "Epoch 6/10\n",
            "1834/1834 [==============================] - 9s 5ms/step - loss: 0.2137 - accuracy: 0.9350 - val_loss: 0.0962 - val_accuracy: 0.9696\n",
            "Epoch 7/10\n",
            "1834/1834 [==============================] - 9s 5ms/step - loss: 0.2057 - accuracy: 0.9375 - val_loss: 0.0905 - val_accuracy: 0.9714\n",
            "Epoch 8/10\n",
            "1834/1834 [==============================] - 9s 5ms/step - loss: 0.1911 - accuracy: 0.9399 - val_loss: 0.0842 - val_accuracy: 0.9750\n",
            "Epoch 9/10\n",
            "1834/1834 [==============================] - 9s 5ms/step - loss: 0.1833 - accuracy: 0.9430 - val_loss: 0.0823 - val_accuracy: 0.9764\n",
            "Epoch 10/10\n",
            "1834/1834 [==============================] - 9s 5ms/step - loss: 0.1711 - accuracy: 0.9469 - val_loss: 0.0772 - val_accuracy: 0.9756\n"
          ]
        }
      ],
      "source": [
        "# TODO: Build your model\n",
        "model = keras.models.Sequential()\n",
        "model.add(keras.layers.Flatten(input_shape=[28, 28]))\n",
        "\n",
        "\n",
        "\n",
        "model.add(keras.layers.Dropout(rate=0.2))\n",
        "model.add(keras.layers.Dense(300, activation=\"relu\"))\n",
        "model.add(keras.layers.BatchNormalization())\n",
        "\n",
        "model.add(keras.layers.Dropout(rate=0.2))\n",
        "model.add(keras.layers.Dense(200, activation=\"relu\"))\n",
        "model.add(keras.layers.BatchNormalization())\n",
        "\n",
        "model.add(keras.layers.Dropout(rate=0.2))\n",
        "model.add(keras.layers.Dense(100, activation=\"relu\"))\n",
        "model.add(keras.layers.BatchNormalization()) \n",
        "\n",
        "model.add(keras.layers.Dropout(rate=0.2))\n",
        "model.add(keras.layers.Dense(10, activation=\"softmax\"))\n",
        "\n",
        "#model.summary()\n",
        "\n",
        "model.compile(loss=\"categorical_crossentropy\",\n",
        "              optimizer=keras.optimizers.SGD(lr=0.01),\n",
        "              metrics=[\"accuracy\"])\n",
        "\n",
        "\n",
        "history = model.fit(X_train, y_train, batch_size=30, epochs=10, validation_data=(X_valid, y_valid))\n",
        "\n"
      ]
    },
    {
      "cell_type": "code",
      "execution_count": 42,
      "metadata": {
        "id": "p74tZyOn5LA5",
        "colab": {
          "base_uri": "https://localhost:8080/"
        },
        "outputId": "deb415dc-f92e-46c9-c97b-abcb8c08826b"
      },
      "outputs": [
        {
          "output_type": "stream",
          "name": "stdout",
          "text": [
            "Model: \"sequential_13\"\n",
            "_________________________________________________________________\n",
            " Layer (type)                Output Shape              Param #   \n",
            "=================================================================\n",
            " flatten_13 (Flatten)        (None, 784)               0         \n",
            "                                                                 \n",
            " dropout_44 (Dropout)        (None, 784)               0         \n",
            "                                                                 \n",
            " dense_57 (Dense)            (None, 300)               235500    \n",
            "                                                                 \n",
            " batch_normalization_44 (Bat  (None, 300)              1200      \n",
            " chNormalization)                                                \n",
            "                                                                 \n",
            " dropout_45 (Dropout)        (None, 300)               0         \n",
            "                                                                 \n",
            " dense_58 (Dense)            (None, 200)               60200     \n",
            "                                                                 \n",
            " batch_normalization_45 (Bat  (None, 200)              800       \n",
            " chNormalization)                                                \n",
            "                                                                 \n",
            " dropout_46 (Dropout)        (None, 200)               0         \n",
            "                                                                 \n",
            " dense_59 (Dense)            (None, 100)               20100     \n",
            "                                                                 \n",
            " batch_normalization_46 (Bat  (None, 100)              400       \n",
            " chNormalization)                                                \n",
            "                                                                 \n",
            " dropout_47 (Dropout)        (None, 100)               0         \n",
            "                                                                 \n",
            " dense_60 (Dense)            (None, 10)                1010      \n",
            "                                                                 \n",
            "=================================================================\n",
            "Total params: 319,210\n",
            "Trainable params: 318,010\n",
            "Non-trainable params: 1,200\n",
            "_________________________________________________________________\n"
          ]
        }
      ],
      "source": [
        "# show the structure of your model\n",
        "model.summary()"
      ]
    },
    {
      "cell_type": "code",
      "execution_count": 43,
      "metadata": {
        "id": "-02hNH_K5LA5",
        "colab": {
          "base_uri": "https://localhost:8080/",
          "height": 487
        },
        "outputId": "27659caf-49e8-4b40-f1c8-8e952feabc60"
      },
      "outputs": [
        {
          "output_type": "display_data",
          "data": {
            "text/plain": [
              "<Figure size 864x576 with 1 Axes>"
            ],
            "image/png": "[encoded data removed]"
          },
          "metadata": {
            "needs_background": "light"
          }
        }
      ],
      "source": [
        "# Assume you have stored the training history in the variable \"history\"\n",
        "# Show the learning curves\n",
        "pd.DataFrame(history.history).plot(figsize=(12, 8))\n",
        "plt.gca().set_ylim(0, 1)\n",
        "plt.grid(True)\n",
        "plt.show()"
      ]
    },
    {
      "cell_type": "markdown",
      "metadata": {
        "id": "cqOmvIjo5LA5"
      },
      "source": [
        "## Save the model\n",
        "\n",
        "Save and upload your trained model to the seafile link we provided to you. You can upload it multiple times. We will consider only the newest uploaded model. "
      ]
    },
    {
      "cell_type": "code",
      "execution_count": 44,
      "metadata": {
        "id": "eKcyip_35LA5"
      },
      "outputs": [],
      "source": [
        "model.save('FDS22-M081-MNIST.h5') # change the file name according to your repository name"
      ]
    },
    {
      "cell_type": "markdown",
      "metadata": {
        "id": "foXsOmDF5LA6"
      },
      "source": [
        "## Load the model and evaluate it on the test data"
      ]
    },
    {
      "cell_type": "code",
      "execution_count": 45,
      "metadata": {
        "id": "o6DbveNC5LA6",
        "colab": {
          "base_uri": "https://localhost:8080/"
        },
        "outputId": "0cbc4591-8b27-4560-99c9-f081dd37c313"
      },
      "outputs": [
        {
          "output_type": "stream",
          "name": "stdout",
          "text": [
            "313/313 [==============================] - 1s 3ms/step - loss: 0.0759 - accuracy: 0.9765\n"
          ]
        },
        {
          "output_type": "execute_result",
          "data": {
            "text/plain": [
              "[0.0758979320526123, 0.9764999747276306]"
            ]
          },
          "metadata": {},
          "execution_count": 45
        }
      ],
      "source": [
        "model = keras.models.load_model(\"FDS22-M081-MNIST.h5\")\n",
        "model.evaluate(X_test, y_test)"
      ]
    },
    {
      "cell_type": "markdown",
      "metadata": {
        "id": "qO4zgCTN5LA6"
      },
      "source": [
        "## Short report\n",
        "\n",
        "Please write a few sentences explaining how you build and train the model. Please include the decisions you made, such as why you use x number layers and the difficulties you met. "
      ]
    },
    {
      "cell_type": "markdown",
      "metadata": {
        "id": "mNd6Az-u5LA6"
      },
      "source": [
        "I started experimenting with a bit complex model, i.e., I started with 500 neurons in the first hidden layer. However, after some investigations, the complex model could have improved accuracy of the model. Thus, I removed the first layer and started with 300 neurons in the first hidden layer. \n",
        "\n",
        "To increase the speed of the training, I compared the SGD optimizer with the ADAM one. Unfortunately, adam-optimizer did not show better results, so I used  SGD. Also, I tried different sizes for the batch; the best one was 30 with ten epochs. Finally, I added a batch normalization layer to deal with the vanishing gradient problem. To avoid over-fitting, I tried three different techniques, starting with an l2 regularizer, then with l1, and finally with the dropout method. L2 regularizer performed well, but it was penalizing a lot, s.t; it took much work to reach the needed accuracy. In contrast, when adding an l1 regularizer, the model behaved exceptionally poorly, and the accuracy dropped below 0.15. Thus, I only used the dropout method, which worked well since the model generalizes well for unseen data. \n"
      ]
    }
  ],
  "metadata": {
    "kernelspec": {
      "display_name": "Python 3",
      "language": "python",
      "name": "python3"
    },
    "language_info": {
      "codemirror_mode": {
        "name": "ipython",
        "version": 3
      },
      "file_extension": ".py",
      "mimetype": "text/x-python",
      "name": "python",
      "nbconvert_exporter": "python",
      "pygments_lexer": "ipython3",
      "version": "3.8.3"
    },
    "colab": {
      "provenance": [],
      "include_colab_link": true
    },
    "accelerator": "GPU",
    "gpuClass": "standard"
  },
  "nbformat": 4,
  "nbformat_minor": 0
}