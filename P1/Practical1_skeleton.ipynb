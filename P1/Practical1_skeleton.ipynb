{
 "cells": [
  {
   "cell_type": "markdown",
   "metadata": {
    "colab_type": "text",
    "id": "id1w7kwZVF3I"
   },
   "source": [
    "# Practical 1 : Implementation of Linear Regression (Ridge, Lasso)\n",
    "\n",
    "This practical has two parts. The first part is to implement and train a linear regression model using the least squares method. We will implement the model and train it on the winequality dataset using the NumPy library. Learning curves will be plotted to determine if the model is overfitting or underfitting.\n",
    "\n",
    "In the second part, we will apply the basis expansion to the dataset and train linear regression models with regularization, i.e., Ridge and Lasso. These tasks do not need to be implemented from scratch -- We will use the functions from the scikit-learn library. During training, we use the validation data to determine the optimal hyperparameters. \n",
    "An optional task is to implement the hyperparameter selection using the k-fold cross-validation method. Five bonus points are awarded for this task. \n",
    "\n"
   ]
  },
  {
   "cell_type": "markdown",
   "metadata": {},
   "source": [
    "We will use the following packages:"
   ]
  },
  {
   "cell_type": "code",
   "execution_count": 2,
   "metadata": {
    "colab": {},
    "colab_type": "code",
    "id": "CTZv9o5i4gy3"
   },
   "outputs": [],
   "source": [
    "import numpy as np\n",
    "import matplotlib.pyplot as plt\n",
    "import _pickle as cp"
   ]
  },
  {
   "cell_type": "markdown",
   "metadata": {
    "colab_type": "text",
    "id": "b1-ZQWqTVPno"
   },
   "source": [
    "## Dataset\n",
    "We will use the winequality dataset for this practical. The dataset is available here:\n",
    "https://archive.ics.uci.edu/ml/datasets/Wine+Quality. \n",
    "In order to make it easier to import the dataset, the dataset has been converted to the numpy array format and shuffled, so that we can start the practical directly. The converted dataset is available on the OLAT page.\n",
    "\n",
    "#### Attribute Information\n",
    "Input variables (based on physicochemical tests):\n",
    "1. fixed acidity\n",
    "2. volatile acidity\n",
    "3. citric acid\n",
    "4. residual sugar\n",
    "5. chlorides\n",
    "6. free sulfur dioxide\n",
    "7. total sulfur dioxide\n",
    "8. density\n",
    "9. pH\n",
    "10. sulphates\n",
    "11. alcohol\n",
    "\n",
    "Output variable (based on sensory data):\n",
    "\n",
    "12. quality (score between 0 and 10)\n",
    "\n"
   ]
  },
  {
   "cell_type": "markdown",
   "metadata": {
    "colab_type": "text",
    "id": "TzDL9RQiVaPY"
   },
   "source": [
    "There are two files in the dataset, one for white wine data and one for red wine data. We focus on the white wine data, which is the larger dataset. The following code loads the data:"
   ]
  },
  {
   "cell_type": "code",
   "execution_count": 6,
   "metadata": {
    "colab": {
     "base_uri": "https://localhost:8080/",
     "height": 51
    },
    "colab_type": "code",
    "executionInfo": {
     "elapsed": 1423,
     "status": "ok",
     "timestamp": 1596436129238,
     "user": {
      "displayName": "Haozhe Zhang",
      "photoUrl": "https://lh3.googleusercontent.com/a-/AOh14GhewCb1FImnjURCLugyfalL8wVXJomnuoEHUckN=s64",
      "userId": "15943369882491692800"
     },
     "user_tz": -480
    },
    "id": "NYkwbebUVO_i",
    "outputId": "80ed8916-85c3-4564-cda8-d8a8f36aaa1d"
   },
   "outputs": [
    {
     "name": "stdout",
     "output_type": "stream",
     "text": [
      "[[ 7.6   0.24  0.44 ...  3.06  0.37 11.6 ]\n",
      " [ 6.9   0.41  0.33 ...  3.2   0.52  9.4 ]\n",
      " [10.    0.2   0.39 ...  3.    0.42 10.4 ]\n",
      " ...\n",
      " [ 6.3   0.48  0.04 ...  3.24  0.36  9.6 ]\n",
      " [ 5.8   0.13  0.22 ...  3.32  0.42 11.7 ]\n",
      " [ 7.8   0.32  0.33 ...  3.07  0.58  9.6 ]]\n",
      "[6. 5. 6. ... 6. 6. 6.]\n",
      "X is a matrix with the dimension (4898, 11). That is, 4898 data records and 11 features.\n",
      "y is a vector with 4898 values. They are the labels of the data records in X.\n"
     ]
    }
   ],
   "source": [
    "# load the white wine dataset\n",
    "# X is the feature matrix that stores the feature values of the data records\n",
    "# y is the label vector that stores the labels of the data records\n",
    "X, y = cp.load(open('winequality-white.pickle', 'rb'))\n",
    "# check the size of the data\n",
    "print(\"X is a matrix with the dimension {}. That is, {} data records and {} features.\".format(X.shape, X.shape[0], X.shape[1]))\n",
    "print(\"y is a vector with {} values. They are the labels of the data records in X.\".format(y.shape[0]))\n"
   ]
  },
  {
   "cell_type": "markdown",
   "metadata": {
    "colab_type": "text",
    "id": "q2yKNR49Wkn8"
   },
   "source": [
    "## Understanding What We’re Predicting\n",
    "\n",
    "First, let's look at the labels. \n",
    "We make the bar chart below to show the distribution of labels in the dataset. \n",
    "The y-values are integers from 3 to 9. \n"
   ]
  },
  {
   "cell_type": "code",
   "execution_count": 9,
   "metadata": {
    "cellView": "both",
    "colab": {
     "base_uri": "https://localhost:8080/",
     "height": 295
    },
    "colab_type": "code",
    "executionInfo": {
     "elapsed": 1409,
     "status": "ok",
     "timestamp": 1596436129240,
     "user": {
      "displayName": "Haozhe Zhang",
      "photoUrl": "https://lh3.googleusercontent.com/a-/AOh14GhewCb1FImnjURCLugyfalL8wVXJomnuoEHUckN=s64",
      "userId": "15943369882491692800"
     },
     "user_tz": -480
    },
    "id": "4L_JDK3dWrsR",
    "outputId": "71b22bf6-77ce-4bd6-d5b1-61f633923144"
   },
   "outputs": [
    {
     "data": {
      "image/png": "[encoded data removed]",
      "text/plain": [
       "<Figure size 640x480 with 1 Axes>"
      ]
     },
     "metadata": {},
     "output_type": "display_data"
    }
   ],
   "source": [
    "# the function takes the y-values in the training data as the input and makes the bar chart. \n",
    "def plot_bar_chart_score(y):\n",
    "    fix, ax = plt.subplots()\n",
    "    unique, counts = np.unique(y, return_counts=True)\n",
    "    plt.bar(unique, counts)\n",
    "    plt.xlabel('Score')\n",
    "    plt.ylabel('Number of wines')\n",
    "    plt.title('Distribution of scores of wines')\n",
    "    plt.show()\n",
    "\n",
    "plot_bar_chart_score(y)"
   ]
  },
  {
   "cell_type": "markdown",
   "metadata": {
    "colab_type": "text",
    "id": "CGuNg0KbWN0z"
   },
   "source": [
    "Our goal is to train a model that can take wine records in X and predict the quality of the wines.\n",
    "We split the data into training data and test data. \n",
    "In practice, we should sample randomly 80% of the data as training data and the rest as the test data. \n",
    "Though, in this practical, let's all use the same split: the **first** 80% of the data for training and the remaining 20% for testing. This makes sure we can compare your results to ours."
   ]
  },
  {
   "cell_type": "markdown",
   "metadata": {},
   "source": [
    "### **Task 1** \n",
    "The first task is to write a function that can split the dataset into training and testing data according to the parameter `split_coeff`. When `split_coeff` is set to 0.8, it means the function sets the first 80% of the data as the training data and the remaining 20% as the testing data. "
   ]
  },
  {
   "cell_type": "code",
   "execution_count": 11,
   "metadata": {
    "colab": {
     "base_uri": "https://localhost:8080/",
     "height": 85
    },
    "colab_type": "code",
    "executionInfo": {
     "elapsed": 1416,
     "status": "ok",
     "timestamp": 1596436129239,
     "user": {
      "displayName": "Haozhe Zhang",
      "photoUrl": "https://lh3.googleusercontent.com/a-/AOh14GhewCb1FImnjURCLugyfalL8wVXJomnuoEHUckN=s64",
      "userId": "15943369882491692800"
     },
     "user_tz": -480
    },
    "id": "6ZqbBa8bWNYg",
    "outputId": "da274c4e-c3ed-4ac0-8442-27befcf26f4c"
   },
   "outputs": [
    {
     "name": "stdout",
     "output_type": "stream",
     "text": [
      "3918\n"
     ]
    },
    {
     "data": {
      "text/plain": [
       "(array([[ 7.6 ,  0.24,  0.44, ...,  3.06,  0.37, 11.6 ],\n",
       "        [ 6.9 ,  0.41,  0.33, ...,  3.2 ,  0.52,  9.4 ],\n",
       "        [10.  ,  0.2 ,  0.39, ...,  3.  ,  0.42, 10.4 ],\n",
       "        ...,\n",
       "        [ 7.9 ,  0.35,  0.24, ...,  3.03,  0.59, 10.5 ],\n",
       "        [ 5.9 ,  0.34,  0.3 , ...,  3.09,  0.34, 12.  ],\n",
       "        [ 6.3 ,  0.3 ,  0.24, ...,  3.22,  0.47,  9.5 ]]),\n",
       " array([6., 5., 6., ..., 6., 6., 5.]),\n",
       " array([[ 6.7 ,  0.34,  0.54, ...,  3.04,  0.56,  8.8 ],\n",
       "        [ 7.9 ,  0.33,  0.28, ...,  3.15,  0.38,  8.8 ],\n",
       "        [ 7.2 ,  0.31,  0.35, ...,  3.14,  0.53,  9.7 ],\n",
       "        ...,\n",
       "        [ 6.3 ,  0.48,  0.04, ...,  3.24,  0.36,  9.6 ],\n",
       "        [ 5.8 ,  0.13,  0.22, ...,  3.32,  0.42, 11.7 ],\n",
       "        [ 7.8 ,  0.32,  0.33, ...,  3.07,  0.58,  9.6 ]]),\n",
       " array([5., 6., 5., 6., 5., 5., 5., 7., 5., 6., 7., 5., 6., 7., 6., 5., 5.,\n",
       "        5., 6., 7., 7., 6., 7., 7., 8., 3., 5., 6., 6., 5., 4., 7., 6., 6.,\n",
       "        6., 7., 6., 5., 7., 5., 7., 7., 6., 5., 5., 7., 5., 7., 4., 6., 6.,\n",
       "        6., 6., 8., 6., 7., 5., 6., 7., 6., 6., 6., 6., 6., 6., 6., 6., 7.,\n",
       "        6., 6., 5., 7., 5., 7., 6., 7., 7., 6., 5., 6., 4., 7., 7., 6., 5.,\n",
       "        6., 6., 6., 7., 5., 4., 7., 6., 5., 5., 6., 6., 6., 7., 7., 6., 7.,\n",
       "        6., 7., 7., 6., 5., 5., 5., 5., 5., 8., 6., 6., 6., 5., 6., 6., 6.,\n",
       "        6., 6., 6., 5., 5., 6., 5., 7., 6., 6., 8., 6., 6., 4., 6., 7., 6.,\n",
       "        6., 6., 6., 6., 6., 7., 5., 6., 6., 8., 5., 6., 5., 6., 6., 6., 5.,\n",
       "        6., 7., 5., 5., 5., 4., 7., 6., 7., 5., 7., 5., 6., 6., 5., 5., 5.,\n",
       "        4., 7., 6., 6., 7., 6., 6., 7., 6., 6., 5., 7., 6., 8., 5., 6., 6.,\n",
       "        5., 5., 5., 6., 5., 5., 7., 5., 7., 5., 6., 6., 5., 7., 8., 7., 6.,\n",
       "        6., 7., 6., 8., 7., 7., 5., 6., 3., 5., 6., 6., 6., 6., 5., 6., 6.,\n",
       "        8., 7., 6., 6., 6., 6., 8., 7., 6., 8., 6., 6., 5., 6., 6., 6., 7.,\n",
       "        6., 5., 6., 6., 7., 5., 7., 6., 6., 6., 3., 6., 5., 6., 6., 5., 7.,\n",
       "        6., 5., 6., 7., 6., 7., 6., 6., 7., 7., 7., 5., 5., 6., 6., 7., 5.,\n",
       "        6., 6., 5., 7., 6., 5., 5., 7., 6., 6., 6., 5., 5., 3., 5., 6., 6.,\n",
       "        6., 5., 6., 6., 7., 6., 4., 6., 5., 5., 5., 6., 6., 6., 7., 6., 7.,\n",
       "        7., 8., 5., 3., 5., 7., 6., 7., 6., 7., 6., 8., 6., 7., 6., 6., 6.,\n",
       "        7., 5., 6., 5., 7., 6., 8., 8., 5., 6., 6., 6., 6., 5., 6., 5., 6.,\n",
       "        5., 5., 6., 7., 6., 5., 5., 5., 5., 5., 6., 6., 9., 6., 5., 5., 5.,\n",
       "        6., 7., 7., 5., 6., 6., 7., 6., 7., 6., 6., 6., 7., 5., 6., 5., 6.,\n",
       "        6., 5., 7., 6., 6., 6., 5., 5., 6., 5., 4., 6., 6., 5., 6., 5., 5.,\n",
       "        7., 6., 6., 6., 5., 6., 5., 8., 5., 5., 6., 5., 7., 6., 5., 7., 5.,\n",
       "        6., 6., 5., 5., 6., 5., 6., 5., 7., 7., 5., 5., 6., 5., 4., 7., 6.,\n",
       "        6., 5., 5., 6., 5., 7., 5., 5., 6., 6., 6., 4., 6., 6., 6., 6., 5.,\n",
       "        5., 6., 6., 6., 6., 6., 6., 5., 5., 5., 6., 6., 7., 5., 5., 7., 6.,\n",
       "        7., 7., 6., 5., 6., 6., 6., 6., 6., 7., 6., 5., 7., 5., 6., 4., 5.,\n",
       "        4., 5., 7., 4., 4., 7., 6., 7., 6., 6., 6., 7., 7., 6., 6., 5., 5.,\n",
       "        6., 6., 4., 6., 5., 6., 4., 6., 6., 6., 6., 8., 7., 6., 6., 7., 8.,\n",
       "        6., 7., 7., 6., 5., 7., 5., 6., 6., 6., 6., 5., 6., 6., 5., 6., 5.,\n",
       "        6., 7., 7., 5., 6., 6., 5., 5., 6., 5., 6., 5., 5., 5., 4., 7., 6.,\n",
       "        7., 6., 5., 5., 6., 5., 5., 5., 7., 6., 6., 6., 5., 6., 6., 6., 6.,\n",
       "        4., 6., 7., 6., 6., 5., 7., 6., 5., 5., 6., 5., 6., 6., 6., 6., 5.,\n",
       "        5., 7., 6., 5., 5., 7., 4., 7., 5., 6., 5., 6., 5., 6., 7., 7., 6.,\n",
       "        5., 5., 5., 6., 7., 5., 6., 6., 7., 6., 5., 6., 6., 6., 3., 5., 6.,\n",
       "        5., 8., 6., 6., 5., 6., 5., 6., 5., 6., 7., 5., 5., 6., 5., 5., 5.,\n",
       "        6., 6., 7., 5., 7., 7., 6., 6., 6., 7., 6., 7., 7., 5., 5., 7., 7.,\n",
       "        8., 5., 6., 6., 6., 6., 6., 6., 6., 5., 6., 7., 8., 7., 6., 6., 7.,\n",
       "        5., 5., 6., 6., 7., 7., 6., 7., 7., 5., 6., 6., 5., 6., 5., 5., 5.,\n",
       "        7., 9., 7., 6., 6., 6., 6., 5., 5., 7., 6., 4., 4., 4., 6., 7., 6.,\n",
       "        6., 6., 6., 6., 5., 5., 4., 5., 5., 6., 5., 5., 7., 6., 7., 8., 5.,\n",
       "        7., 5., 6., 5., 4., 6., 7., 7., 5., 5., 6., 5., 5., 5., 5., 5., 6.,\n",
       "        5., 6., 6., 7., 6., 6., 6., 5., 5., 7., 6., 6., 6., 6., 5., 7., 4.,\n",
       "        6., 8., 6., 6., 6., 5., 6., 6., 7., 7., 5., 5., 6., 5., 5., 4., 7.,\n",
       "        6., 7., 6., 5., 6., 6., 6., 5., 6., 6., 4., 7., 5., 7., 7., 6., 6.,\n",
       "        7., 6., 7., 6., 5., 5., 6., 7., 5., 7., 5., 6., 4., 6., 6., 5., 5.,\n",
       "        5., 6., 6., 6., 6., 5., 5., 7., 5., 6., 7., 7., 7., 7., 7., 5., 6.,\n",
       "        4., 6., 7., 6., 7., 6., 5., 5., 6., 6., 5., 7., 7., 5., 5., 5., 6.,\n",
       "        5., 6., 5., 6., 5., 8., 6., 7., 4., 7., 6., 6., 8., 5., 5., 5., 5.,\n",
       "        6., 5., 5., 6., 6., 6., 7., 7., 5., 6., 6., 6., 6., 6., 6., 5., 5.,\n",
       "        7., 6., 5., 8., 5., 6., 8., 6., 6., 5., 7., 8., 5., 5., 5., 6., 6.,\n",
       "        5., 5., 8., 6., 7., 5., 7., 6., 6., 7., 7., 6., 5., 7., 7., 4., 4.,\n",
       "        6., 6., 6., 6., 6., 6., 5., 6., 8., 7., 6., 6., 6., 6., 5., 6., 6.,\n",
       "        7., 6., 5., 6., 5., 6., 7., 8., 7., 6., 5., 5., 5., 5., 5., 5., 6.,\n",
       "        6., 6., 5., 7., 5., 6., 6., 5., 5., 5., 5., 7., 7., 7., 4., 7., 5.,\n",
       "        6., 5., 5., 5., 7., 6., 5., 5., 6., 7., 6., 5., 6., 5., 5., 5., 5.,\n",
       "        5., 6., 6., 6., 5., 6., 6., 6., 6., 6., 6.]))"
      ]
     },
     "execution_count": 11,
     "metadata": {},
     "output_type": "execute_result"
    }
   ],
   "source": [
    "# The function splits the dataset into training data and testing data.\n",
    "# The parameter split_coeff is a percentage value such that\n",
    "# the first split_coeff of the dataset become the training data\n",
    "# and the remaining data become the test data\n",
    "def split_data(X, y, split_coeff=0.8):\n",
    "    train_size = int(X.shape[0] * split_coeff)  \n",
    "    X_train = X[:train_size, :] \n",
    "    X_test = X[train_size:, :] \n",
    "    y_train = y[:train_size]\n",
    "    y_test = y[train_size:]\n",
    "    return X_train, y_train, X_test, y_test\n"
   ]
  },
  {
   "cell_type": "markdown",
   "metadata": {},
   "source": [
    "Your function should return the expected output as shown in the code block below. "
   ]
  },
  {
   "cell_type": "code",
   "execution_count": 12,
   "metadata": {},
   "outputs": [
    {
     "name": "stdout",
     "output_type": "stream",
     "text": [
      "3918\n",
      "Shape of X_train: (3918, 11)\n",
      "Shape of y_train: (3918,)\n",
      "Shape of X_test: (980, 11)\n",
      "Shape of y_test: (980,)\n"
     ]
    }
   ],
   "source": [
    "X_train, y_train, X_test, y_test = split_data(X, y, 0.8) # split the data with split_coeff=0.8\n",
    "\n",
    "# check the size of the splitted dataset\n",
    "print(\"Shape of X_train:\", X_train.shape) # expected output (3918, 11)\n",
    "print(\"Shape of y_train:\", y_train.shape) # expected output (3918,)\n",
    "print(\"Shape of X_test:\", X_test.shape) # expected output (980, 11)\n",
    "print(\"Shape of y_test:\", y_test.shape) # expected output (980,)"
   ]
  },
  {
   "cell_type": "markdown",
   "metadata": {
    "colab_type": "text",
    "id": "GxjlElni2FcH"
   },
   "source": [
    "### **Task 2** \n",
    "\n",
    "As a first step, we construct a trivial model that returns the mean of the y-values in the training data for any wine record in X. We use this trivial model as a baseline. The linear regression models we build later should perform better than this trivial model."
   ]
  },
  {
   "cell_type": "code",
   "execution_count": 13,
   "metadata": {
    "colab": {
     "base_uri": "https://localhost:8080/",
     "height": 34
    },
    "colab_type": "code",
    "executionInfo": {
     "elapsed": 1402,
     "status": "ok",
     "timestamp": 1596436129240,
     "user": {
      "displayName": "Haozhe Zhang",
      "photoUrl": "https://lh3.googleusercontent.com/a-/AOh14GhewCb1FImnjURCLugyfalL8wVXJomnuoEHUckN=s64",
      "userId": "15943369882491692800"
     },
     "user_tz": -480
    },
    "id": "-V3xFYexX1lt",
    "outputId": "5e57738e-87d5-408c-f1bf-9df66a175f35"
   },
   "outputs": [
    {
     "name": "stdout",
     "output_type": "stream",
     "text": [
      "The average of the y-values in the training data is 5.878764675855028\n"
     ]
    }
   ],
   "source": [
    "#@title\n",
    "# Task 2: implement the trivial predictor\n",
    "# The function computes the average value of y on the training label values\n",
    "def compute_average(y_train):\n",
    "    return np.mean(y_train)\n",
    "\n",
    "\n",
    "y_train_avg = compute_average(y_train)\n",
    "print(\"The average of the y-values in the training data is {}\".format(y_train_avg)) \n",
    "\n",
    "# The trivial predictor returns the average value.\n",
    "def trivial_predictor(X_test, y_train_avg):\n",
    "  return y_train_avg\n"
   ]
  },
  {
   "cell_type": "markdown",
   "metadata": {
    "colab_type": "text",
    "id": "x531Q_SxXV14"
   },
   "source": [
    "### **Task 3**\n",
    "We next evaluate the trivial predictor on the training data and test data. \n",
    "We use mean squared error (MSE) to measure the performance of the predictor.\n",
    "The task is to implement a function that reports the mean squared error of the given predictor on the given data. "
   ]
  },
  {
   "cell_type": "code",
   "execution_count": 20,
   "metadata": {
    "colab": {
     "base_uri": "https://localhost:8080/",
     "height": 102
    },
    "colab_type": "code",
    "executionInfo": {
     "elapsed": 1394,
     "status": "ok",
     "timestamp": 1596436129240,
     "user": {
      "displayName": "Haozhe Zhang",
      "photoUrl": "https://lh3.googleusercontent.com/a-/AOh14GhewCb1FImnjURCLugyfalL8wVXJomnuoEHUckN=s64",
      "userId": "15943369882491692800"
     },
     "user_tz": -480
    },
    "id": "mV8l6Ci9YlgL",
    "outputId": "f57858dc-d0fc-40fe-dbf7-c652d2f8fddb"
   },
   "outputs": [
    {
     "name": "stdout",
     "output_type": "stream",
     "text": [
      "Trivial Predictor\n",
      "--------------------------------------------------------------------------------\n",
      "\n",
      "MSE (Training) = 0.7768\n",
      "MSE (Testing)  = 0.8139\n"
     ]
    }
   ],
   "source": [
    "# We next test our trivial predictor on the training data and test data. \n",
    "# Implement a function that can report the mean squared error \n",
    "# of a predictor on the given data\n",
    "# Input: data and predictor\n",
    "# Output: mean squared error of the predictor on the given data\n",
    "def test_predictor(X, y, predictor: callable=None):\n",
    "    # Apply the predictor to each row of the matrix X to get the predictions\n",
    "    y_predicted = np.apply_along_axis(predictor, 1, X)\n",
    "\n",
    "    mse = (np.square(y_predicted - y)).mean()   \n",
    "    return mse\n",
    "\n",
    "# use the function test_predictor to test the trivial predictor\n",
    "# we use the lambda function here to pass the function trivial predictor to the function test_predictor.\n",
    "mse_trivial_predictor_train = test_predictor(X_train, y_train, lambda x: trivial_predictor(x, y_train_avg))\n",
    "mse_trivial_predictor_test = test_predictor(X_test, y_test, lambda x: trivial_predictor(x, y_train_avg))\n",
    "\n",
    "# Report the result\n",
    "print('Trivial Predictor')\n",
    "print('--------------------------------------------------------------------------------\\n')\n",
    "print('MSE (Training) = %.4f' % mse_trivial_predictor_train)\n",
    "print('MSE (Testing)  = %.4f' % mse_trivial_predictor_test)"
   ]
  },
  {
   "cell_type": "markdown",
   "metadata": {
    "colab_type": "text",
    "id": "geiyM1Nea0az"
   },
   "source": [
    "## Train the Linear Model Using the Least Squares Method\n",
    "\n",
    "Let's next train a linear regression model on the training data. \n",
    "We use the closed form solution of the least squares estimate to compute the parameters of the linear regression model. \n",
    "This model should perform better than the trivial predictor."
   ]
  },
  {
   "cell_type": "markdown",
   "metadata": {
    "colab_type": "text",
    "id": "WSEwFGp_bqAI"
   },
   "source": [
    "### **Task 4**\n",
    "Before training the model, we need to standardize the data, i.e., transform the data so that every feature has mean 0 and variance 1. \n",
    "\n",
    "https://en.wikipedia.org/wiki/Standard_score\n",
    "\n",
    "We first standardize the training data, and then apply the same transformation to the test data. That is, standardize the test data using the means and the standard deviations of the training data. "
   ]
  },
  {
   "cell_type": "code",
   "execution_count": 39,
   "metadata": {
    "colab": {
     "base_uri": "https://localhost:8080/",
     "height": 68
    },
    "colab_type": "code",
    "executionInfo": {
     "elapsed": 1387,
     "status": "ok",
     "timestamp": 1596436129241,
     "user": {
      "displayName": "Haozhe Zhang",
      "photoUrl": "https://lh3.googleusercontent.com/a-/AOh14GhewCb1FImnjURCLugyfalL8wVXJomnuoEHUckN=s64",
      "userId": "15943369882491692800"
     },
     "user_tz": -480
    },
    "id": "trjwkcgybhDH",
    "outputId": "d87a4635-354f-47e2-947a-e843f027e4cb"
   },
   "outputs": [
    {
     "name": "stdout",
     "output_type": "stream",
     "text": [
      "X_train_std: (3918, 11)\n",
      "Mean: [6.85427514e+00 2.78390761e-01 3.34892802e-01 6.42623788e+00\n",
      " 4.58213374e-02 3.53263144e+01 1.38513272e+02 9.94040729e-01\n",
      " 3.18647524e+00 4.89055641e-01 1.05115799e+01]\n",
      "Standard deviation: [8.39100902e-01 9.95630176e-02 1.24249975e-01 5.06377532e+00\n",
      " 2.16660282e-02 1.71004677e+01 4.23956179e+01 2.97972269e-03\n",
      " 1.49949475e-01 1.12992053e-01 1.22536544e+00]\n"
     ]
    }
   ],
   "source": [
    "# The task is to implement a function that can standardize the data and returns the mean and std of the data.\n",
    "# Input: training data\n",
    "# Output: standardize training data, standard deviations and means\n",
    "def standardize_data(X):\n",
    "    mean = np.mean(X, axis=0)\n",
    "    std = np.std(X, axis=0)\n",
    "    X_std = (X - mean)/ std\n",
    "    return X_std, mean, std\n",
    "\n",
    "# Standardize the training data and store the means and the stds \n",
    "X_train_std, X_train_mean, X_train_std_div = standardize_data(X_train)\n",
    "print(\"X_train_std:\", X_train_std.shape)\n",
    "print(\"Mean:\", X_train_mean)\n",
    "print(\"Standard deviation:\", X_train_std_div)\n",
    "#print(np.mean(X_train_std, axis=0))"
   ]
  },
  {
   "cell_type": "markdown",
   "metadata": {},
   "source": [
    "##Function to standardize Test data with std and mean of the given train data\n",
    "Added since we need the same code for task 6 to avoid repeated code!"
   ]
  },
  {
   "cell_type": "code",
   "execution_count": 41,
   "metadata": {
    "colab": {
     "base_uri": "https://localhost:8080/",
     "height": 102
    },
    "colab_type": "code",
    "executionInfo": {
     "elapsed": 1380,
     "status": "ok",
     "timestamp": 1596436129242,
     "user": {
      "displayName": "Haozhe Zhang",
      "photoUrl": "https://lh3.googleusercontent.com/a-/AOh14GhewCb1FImnjURCLugyfalL8wVXJomnuoEHUckN=s64",
      "userId": "15943369882491692800"
     },
     "user_tz": -480
    },
    "id": "RjzbA5JpM759",
    "outputId": "ff594788-2fdd-419c-98fa-beac6a53cfc9"
   },
   "outputs": [
    {
     "name": "stdout",
     "output_type": "stream",
     "text": [
      "(980, 11)\n"
     ]
    }
   ],
   "source": [
    "def standardize_test_data(X_train_mean, X_train_std_div, X_test):\n",
    "    return (X_test - X_train_mean)/ X_train_std_div\n",
    "X_test_std = standardize_test_data(X_train_mean, X_train_std_div, X_test)\n",
    "print(X_test_std.shape)\n"
   ]
  },
  {
   "cell_type": "markdown",
   "metadata": {
    "colab_type": "text",
    "id": "vT4_Sl42bxmD"
   },
   "source": [
    "### **Task 5**\n",
    "Let's now train the linear model using the least-squares method. \n",
    "We need to add the bias term to the matrix X. "
   ]
  },
  {
   "cell_type": "code",
   "execution_count": 30,
   "metadata": {
    "colab": {
     "base_uri": "https://localhost:8080/",
     "height": 34
    },
    "colab_type": "code",
    "executionInfo": {
     "elapsed": 1374,
     "status": "ok",
     "timestamp": 1596436129242,
     "user": {
      "displayName": "Haozhe Zhang",
      "photoUrl": "https://lh3.googleusercontent.com/a-/AOh14GhewCb1FImnjURCLugyfalL8wVXJomnuoEHUckN=s64",
      "userId": "15943369882491692800"
     },
     "user_tz": -480
    },
    "id": "A4JtLr6pdJV7",
    "outputId": "dfd57312-284f-4ce9-820b-4fdbdfbec8c4"
   },
   "outputs": [
    {
     "name": "stdout",
     "output_type": "stream",
     "text": [
      "w: (12,)\n"
     ]
    }
   ],
   "source": [
    "# The task is to implement the function that adds a column of ones to the first column of X\n",
    "def expand_with_ones(X):\n",
    "    bias_term = np.ones((X.shape[0], 1))\n",
    "    X_out = np.hstack((bias_term, X))\n",
    "    return X_out\n",
    "\n",
    "# Train the linear model using the least-squares method\n",
    "# The task is to implement the function that computes the parameters\n",
    "def least_squares_compute_parameters(X_input, y):\n",
    "    # add the bias column to the data\n",
    "    X = expand_with_ones(X_input)\n",
    "\n",
    "    w = np.dot(np.dot(np.linalg.inv(np.dot(np.transpose(X),X)),np.transpose(X)),y)\n",
    "    return w\n",
    "\n",
    "# Apply the function to train the linear model\n",
    "w = least_squares_compute_parameters(X_train_std, y_train) \n",
    "print(\"w:\", w.shape)"
   ]
  },
  {
   "cell_type": "markdown",
   "metadata": {
    "colab_type": "text",
    "id": "lasj_1PpeZib"
   },
   "source": [
    "After computing the parameters,\n",
    "we can build the linear model predictor.\n",
    "The predictor takes as input the computed parameters and the data, and predicts the labels for the input data."
   ]
  },
  {
   "cell_type": "code",
   "execution_count": 31,
   "metadata": {
    "colab": {},
    "colab_type": "code",
    "id": "Lb-hNagxc3Wj"
   },
   "outputs": [],
   "source": [
    "# Implement the linear model predictor\n",
    "# Input: test data and parameters\n",
    "# Output: predicted values\n",
    "def linear_model_predictor(X, w):\n",
    "    return np.dot(X, w)\n"
   ]
  },
  {
   "cell_type": "markdown",
   "metadata": {
    "colab_type": "text",
    "id": "cFOYpwbufz7J"
   },
   "source": [
    "Evaluate our linear regression model predictor on the test data. "
   ]
  },
  {
   "cell_type": "code",
   "execution_count": 32,
   "metadata": {
    "colab": {
     "base_uri": "https://localhost:8080/",
     "height": 34
    },
    "colab_type": "code",
    "executionInfo": {
     "elapsed": 1363,
     "status": "ok",
     "timestamp": 1596436129243,
     "user": {
      "displayName": "Haozhe Zhang",
      "photoUrl": "https://lh3.googleusercontent.com/a-/AOh14GhewCb1FImnjURCLugyfalL8wVXJomnuoEHUckN=s64",
      "userId": "15943369882491692800"
     },
     "user_tz": -480
    },
    "id": "LuHHmn2RB55j",
    "outputId": "b6cb4556-2618-419a-a082-214f2e6ecb5e"
   },
   "outputs": [
    {
     "name": "stdout",
     "output_type": "stream",
     "text": [
      "Mean squared error is 0.560729204228347\n"
     ]
    }
   ],
   "source": [
    "# use the function test_predictor to evaluate the linear model predictor\n",
    "mse_linear_model_predictor = test_predictor(expand_with_ones(X_test_std), y_test, lambda x: linear_model_predictor(x, w))\n",
    "print(\"Mean squared error is {}\".format(mse_linear_model_predictor))"
   ]
  },
  {
   "cell_type": "markdown",
   "metadata": {
    "colab_type": "text",
    "id": "zqj4HKAihF7Q"
   },
   "source": [
    "## Learning Curves\n",
    "\n",
    "Let us check if the linear model is overfitting or underfitting. Since the dataset is somewhat large and there are only 11 features, the model shouldn't be overfitting. \n",
    "To check it, we use the learning curves: we plot how the performance of the model changes when it is trained with increasingly more data. "
   ]
  },
  {
   "cell_type": "markdown",
   "metadata": {
    "colab_type": "text",
    "id": "MNf11kurCgKF"
   },
   "source": [
    "### **Task 6** \n",
    "\n",
    "Let's first implement a function that comprises what we have implemented above. \n",
    "The function takes as inputs the data and the split coefficient, and then\n",
    "1. standardizes the data,\n",
    "2. trains the linear model (compute the parameters), and\n",
    "3. reports the MSE of the linear model predictor on both the training and the test data. "
   ]
  },
  {
   "cell_type": "code",
   "execution_count": 43,
   "metadata": {
    "colab": {
     "base_uri": "https://localhost:8080/",
     "height": 102
    },
    "colab_type": "code",
    "executionInfo": {
     "elapsed": 1355,
     "status": "ok",
     "timestamp": 1596436129244,
     "user": {
      "displayName": "Haozhe Zhang",
      "photoUrl": "https://lh3.googleusercontent.com/a-/AOh14GhewCb1FImnjURCLugyfalL8wVXJomnuoEHUckN=s64",
      "userId": "15943369882491692800"
     },
     "user_tz": -480
    },
    "id": "UcGRQBrEb106",
    "outputId": "179c5ec0-ee87-4c4b-a02b-d97d55862e1f"
   },
   "outputs": [
    {
     "name": "stdout",
     "output_type": "stream",
     "text": [
      "Linear Model\n",
      "-----------------------\n",
      "\n",
      "MSE (Training) = 0.5640\n",
      "MSE (Testing)  = 0.5560\n"
     ]
    }
   ],
   "source": [
    "# Input: training data and test data\n",
    "# Output: mse of the linear model predictor on both the training and test data\n",
    "def train_and_test(X_train, y_train, X_test, y_test):\n",
    "    # standardize data \n",
    "    X_train_std, X_train_mean, X_train_std_div = standardize_data(X_train)\n",
    "    X_test_std = standardize_test_data(X_train_mean, X_train_std_div, X_test)\n",
    "\n",
    "    w_train = least_squares_compute_parameters(X_train_std, y_train) \n",
    "    w_test = least_squares_compute_parameters(X_test_std, y_test) \n",
    "\n",
    "    mse_train = test_predictor(expand_with_ones(X_train_std), y_train, lambda x: linear_model_predictor(x, w_train))\n",
    "    mse_test = test_predictor(expand_with_ones(X_test_std), y_test, lambda x: linear_model_predictor(x, w_test))\n",
    "    return mse_train, mse_test\n",
    "\n",
    "mse_train, mse_test = train_and_test(X_train, y_train, X_test, y_test)\n",
    "print('Linear Model')\n",
    "print('-----------------------\\n')\n",
    "print('MSE (Training) = %.4f' % mse_train)\n",
    "print('MSE (Testing)  = %.4f' % mse_test)\n"
   ]
  },
  {
   "cell_type": "markdown",
   "metadata": {
    "colab_type": "text",
    "id": "NTJw_BrzhRwi"
   },
   "source": [
    "### **Task 7**\n",
    "\n",
    "We are now ready to plot the learning curves. \n",
    "\n",
    "We train a list of models on the increasingly more training data ([20, 40, ..., 600] data records).\n",
    "For each of such model, we compute the MSEs of the model on both the training data and the test data, and store the MSEs in the lists `mse_train_v` and `mse_test`, respectively. \n",
    "The code provided below will then plot the learning curves.\n",
    "\n",
    "Your plot should show the two curves (roughly) meet at round 150 training data records."
   ]
  },
  {
   "cell_type": "code",
   "execution_count": 46,
   "metadata": {},
   "outputs": [
    {
     "name": "stdout",
     "output_type": "stream",
     "text": [
      "[6. 5. 6. ... 6. 6. 5.]\n"
     ]
    }
   ],
   "source": [
    "\n"
   ]
  },
  {
   "cell_type": "code",
   "execution_count": 52,
   "metadata": {
    "colab": {
     "base_uri": "https://localhost:8080/",
     "height": 279
    },
    "colab_type": "code",
    "executionInfo": {
     "elapsed": 1747,
     "status": "ok",
     "timestamp": 1596436129644,
     "user": {
      "displayName": "Haozhe Zhang",
      "photoUrl": "https://lh3.googleusercontent.com/a-/AOh14GhewCb1FImnjURCLugyfalL8wVXJomnuoEHUckN=s64",
      "userId": "15943369882491692800"
     },
     "user_tz": -480
    },
    "id": "jDsdh4T3hcIU",
    "outputId": "621c4890-1c55-4e9b-f28f-33d60907d8b9"
   },
   "outputs": [
    {
     "data": {
      "image/png": "[encoded data removed]",
      "text/plain": [
       "<Figure size 640x480 with 1 Axes>"
      ]
     },
     "metadata": {},
     "output_type": "display_data"
    }
   ],
   "source": [
    "mse_train_v = []\n",
    "mse_test_v = []\n",
    "\n",
    "TRAINING_SIZE_MAX = 601\n",
    "TRAINING_SIZE_MIN = 20\n",
    "\n",
    "# compute the MSE over data with sizes from TRAINING_SIZE_MIN to TRAINING_SIZE_MAX with increasing step 20\n",
    "for train_size in range(TRAINING_SIZE_MIN, TRAINING_SIZE_MAX, 20):\n",
    "    # TODO: \n",
    "    #   1. use the first train_size data records from the X_train and y_train as the training data\n",
    "    #   2. train and compute the MSE on both training and test data using the train_and_test function\n",
    "    #   3. add the computed MSE to the lists mse_train_v and mse_test_v\n",
    "    # The code below is just for compilation. \n",
    "    # You need to replace it by your own code.\n",
    "    ###################################################\n",
    "    ##### YOUR CODE STARTS HERE #######################\n",
    "    ###################################################\n",
    "    mse_train, mse_test = train_and_test(X_train[:train_size,:], y_train[:train_size], X_test[:train_size,:], y_test[:train_size])\n",
    "    \n",
    "    mse_train_v.append(mse_train)\n",
    "    mse_test_v.append(mse_test)\n",
    "    ###################################################\n",
    "    ##### YOUR CODE ENDS HERE #########################\n",
    "    ###################################################\n",
    "    \n",
    "\n",
    "# The below code generates the learning curves plot\n",
    "plt.plot(np.arange(TRAINING_SIZE_MIN, TRAINING_SIZE_MAX, 20), mse_train_v, 'r--', label=\"Training Error\")\n",
    "plt.plot(np.arange(TRAINING_SIZE_MIN, TRAINING_SIZE_MAX, 20), mse_test_v, 'b-', label=\"Test Error\")\n",
    "plt.legend(loc=\"lower right\")\n",
    "plt.xlabel('Dataset Size')\n",
    "plt.ylabel('Mean Squared Error')\n",
    "plt.show()"
   ]
  },
  {
   "cell_type": "markdown",
   "metadata": {
    "colab_type": "text",
    "id": "djpsaTu_kK3T"
   },
   "source": [
    "## Polynomial Basis Expansion and Regularisation\n",
    "\n",
    "In this part, we will improve the linear regression model by basis expansion and regularization: \n",
    "1. apply the degree 2 basis expansion to the data, \n",
    "2. build the Ridge and Lasso models and\n",
    "3. perform hyperparameter optimization using the validation data. \n",
    "\n",
    "For the hyperparameter optimization, you should set the last 20% of the training data for the purpose of validation and try lambda values in the range [10^-4, 10^-3, 10^-2, 10^-1, 1, 10, 100]. \n",
    "\n",
    "We will use the scikit-learn library. We have imported the necessary functions for you. You can import other scikit-learn functions if you think they are useful. The documentation is available here: http://scikit-learn.org/stable/modules/classes.html"
   ]
  },
  {
   "cell_type": "code",
   "execution_count": 4,
   "metadata": {
    "colab": {},
    "colab_type": "code",
    "id": "9TM0nkNbkhfM"
   },
   "outputs": [],
   "source": [
    "# import the preprocessing libs for standarization and basis expansion\n",
    "from sklearn.preprocessing import StandardScaler, PolynomialFeatures \n",
    "\n",
    "# Ridge and Lasso linear model\n",
    "from sklearn.linear_model import Ridge, Lasso "
   ]
  },
  {
   "cell_type": "code",
   "execution_count": null,
   "metadata": {},
   "outputs": [],
   "source": [
    "from sklearn.linear_model import Ridge\n",
    "import numpy as np\n",
    "n_samples, n_features = 10, 5\n",
    "rng = np.random.RandomState(0)\n",
    "y = rng.randn(n_samples)\n",
    "X = rng.randn(n_samples, n_features)\n",
    "clf = Ridge(alpha=1.0)\n",
    "clf.fit(X, y)"
   ]
  },
  {
   "cell_type": "markdown",
   "metadata": {
    "colab_type": "text",
    "id": "pCwBPuOXlRF7"
   },
   "source": [
    "### **Task 8**\n",
    "Let's implement the function for expanding the basis of the dataset. \n",
    "\n",
    "Hints: use `PolynomialFeatures`"
   ]
  },
  {
   "cell_type": "code",
   "execution_count": 16,
   "metadata": {
    "colab": {},
    "colab_type": "code",
    "id": "50azFolql1qA"
   },
   "outputs": [],
   "source": [
    "def expand_basis(X, degree):\n",
    "    # TODO: expand the basis of X for the input degree\n",
    "    # The code below is just for compilation. \n",
    "    # You need to replace it by your own code.\n",
    "    ###################################################\n",
    "    ##### YOUR CODE STARTS HERE #######################\n",
    "    ###################################################\n",
    "    # Hints: use the function PolynomialFeatures\n",
    "    return X\n",
    "    ###################################################\n",
    "    ##### YOUR CODE ENDS HERE #########################\n",
    "    ###################################################"
   ]
  },
  {
   "cell_type": "markdown",
   "metadata": {
    "colab_type": "text",
    "id": "6jwkPevimQri"
   },
   "source": [
    "### **Task 9**\n",
    "We need to prepare the data.\n",
    "We first expand and standardize the data,\n",
    "and then split the training data to training data and validation data.\n",
    "We use the last 20% of the training data as the validation data.\n",
    "\n",
    "Hints: use `StandardScaler` and `std_scaler` to standardize the data"
   ]
  },
  {
   "cell_type": "code",
   "execution_count": 17,
   "metadata": {
    "colab": {},
    "colab_type": "code",
    "id": "dQCq4G9YmW7w"
   },
   "outputs": [
    {
     "name": "stdout",
     "output_type": "stream",
     "text": [
      "Shape of X_train_n: (4898, 11)\n",
      "Shape of y_train_n: (4898,)\n",
      "Shape of X_train_v: (4898, 11)\n",
      "Shape of y_train_v: (4898,)\n",
      "Shape of X_test: (4898, 11)\n",
      "Shape of y_test: (4898,)\n"
     ]
    }
   ],
   "source": [
    "def prepare_data(X, y, degree):\n",
    "    # TODO: the training, test and validation data using the expanded dataset.\n",
    "    # The code below is just for compilation. \n",
    "    # You need to replace it by your own code.\n",
    "    ###################################################\n",
    "    ##### YOUR CODE STARTS HERE #######################\n",
    "    ###################################################\n",
    "    # Hints: follow the steps     \n",
    "    # 1. split the data (X, y) into training data (X_train, y_train) and test data (X_test, y_test)\n",
    "    # 2. standardize the training data and do the same transformation to the test data\n",
    "    # 3. expand the basis of the training data and test data\n",
    "    # 4. split the expanded training data into training data (X_train_n, y_train_n) and validation data (X_train_v, y_train_v)\n",
    "    \n",
    "    \n",
    "    # training data\n",
    "    X_train = X\n",
    "    y_train = y\n",
    "\n",
    "    # test data\n",
    "    X_test = X \n",
    "    y_test = y\n",
    "\n",
    "\n",
    "    # further split the training data to training and validation data\n",
    "    # training data\n",
    "    X_train_n = X \n",
    "    y_train_n = y\n",
    "\n",
    "    # validation data\n",
    "    X_train_v = X \n",
    "    y_train_v = y\n",
    "\n",
    "    return X_train, y_train, X_train_n, y_train_n, X_train_v, y_train_v, X_test, y_test\n",
    "    ###################################################\n",
    "    ##### YOUR CODE ENDS HERE #########################\n",
    "    ###################################################\n",
    "\n",
    "X_train, y_train, X_train_n, y_train_n, X_train_v, y_train_v, X_test, y_test = prepare_data(X, y, 2) # here we expand the dataset with degree 2\n",
    "\n",
    "# check the size of the splitted dataset\n",
    "print(\"Shape of X_train_n:\", X_train_n.shape) # expected output (3134, 78)\n",
    "print(\"Shape of y_train_n:\", y_train_n.shape) # expected output (3134,)\n",
    "print(\"Shape of X_train_v:\", X_train_v.shape) # expected output (784, 78)\n",
    "print(\"Shape of y_train_v:\", y_train_v.shape) # expected output (784,)\n",
    "print(\"Shape of X_test:\", X_test.shape) # expected output (980, 78)\n",
    "print(\"Shape of y_test:\", y_test.shape) # expected output (980,)"
   ]
  },
  {
   "cell_type": "markdown",
   "metadata": {
    "colab_type": "text",
    "id": "i3BxxtM3nghU"
   },
   "source": [
    "### **Task 10**\n",
    "We have prepared the training data and the validation data. \n",
    "We can now use the validation data to select the optimal hyperparameters for the Ridge and Lasso models. \n",
    "We use the Ridge and Lasso models from scikit-learn: https://scikit-learn.org/stable/modules/generated/sklearn.linear_model.Ridge.html\n",
    "\n",
    "We train Ridge or Lasso models with different lambda values and check their performance on the validation data, and select the lambda values that yield the best performance. "
   ]
  },
  {
   "cell_type": "code",
   "execution_count": 18,
   "metadata": {
    "colab": {
     "base_uri": "https://localhost:8080/",
     "height": 555
    },
    "colab_type": "code",
    "executionInfo": {
     "elapsed": 3266,
     "status": "ok",
     "timestamp": 1596436131187,
     "user": {
      "displayName": "Haozhe Zhang",
      "photoUrl": "https://lh3.googleusercontent.com/a-/AOh14GhewCb1FImnjURCLugyfalL8wVXJomnuoEHUckN=s64",
      "userId": "15943369882491692800"
     },
     "user_tz": -480
    },
    "id": "SvXcAGW1oHq1",
    "outputId": "25a38d1f-013f-4b0a-9cbb-3f08b68c0371"
   },
   "outputs": [
    {
     "name": "stdout",
     "output_type": "stream",
     "text": [
      "Ridge lambda: 0.0001\n",
      "Lasso lambda: 0.0001\n"
     ]
    },
    {
     "data": {
      "image/png": "[encoded data removed]",
      "text/plain": [
       "<Figure size 432x288 with 1 Axes>"
      ]
     },
     "metadata": {
      "needs_background": "light"
     },
     "output_type": "display_data"
    },
    {
     "data": {
      "image/png": "[encoded data removed]",
      "text/plain": [
       "<Figure size 432x288 with 1 Axes>"
      ]
     },
     "metadata": {
      "needs_background": "light"
     },
     "output_type": "display_data"
    }
   ],
   "source": [
    "# The function takes the training and validation data as inputs, and \n",
    "# returns the lambda value that results the minimal mse\n",
    "# We use is_ridge to indicate which the model is considered.\n",
    "# is_ridge = True indicates Ridge while is_ridge = False indicates Lasso\n",
    "def choose_hyper_param(X_train_n, y_train_n, X_train_v, y_train_v, is_ridge: bool):\n",
    "    mse_arr = []\n",
    "    lam_arr = []\n",
    "\n",
    "    # Try lambda values from 10^-4 to 10^2. \n",
    "    # Record the mse and the lambda values in mse_arr and lam_arr\n",
    "    # The code below is just for compilation. \n",
    "    # You need to replace it by your own code.\n",
    "    ###################################################\n",
    "    ##### YOUR CODE STARTS HERE #######################\n",
    "    ###################################################\n",
    "    for pow_lam in range(-4, 3):\n",
    "        lam = 10 ** pow_lam\n",
    "        mse = 0 # compute the mse for this lam\n",
    "        mse_arr.append(mse) \n",
    "        lam_arr.append(lam) \n",
    "    ###################################################\n",
    "    ##### YOUR CODE ENDS HERE #########################\n",
    "    ###################################################\n",
    "\n",
    "\n",
    "    # get the index of the lambda value that has the minimal use\n",
    "    lambda_idx_min = np.argmin(np.array(mse_arr))\n",
    "\n",
    "    # plot of the lambda values and their mse\n",
    "    plt.figure()\n",
    "    plt.semilogx(lam_arr, mse_arr)\n",
    "\n",
    "    # return the optimal lambda value\n",
    "    return lam_arr[lambda_idx_min]\n",
    "\n",
    "# call the function to choose the lambda for Ridge and Lasso\n",
    "lam_ridge = choose_hyper_param(X_train_n, y_train_n, X_train_v, y_train_v, True)\n",
    "lam_lasso = choose_hyper_param(X_train_n, y_train_n, X_train_v, y_train_v, False)\n",
    "\n",
    "print(\"Ridge lambda:\", lam_ridge)\n",
    "print(\"Lasso lambda:\", lam_lasso)"
   ]
  },
  {
   "cell_type": "markdown",
   "metadata": {
    "colab_type": "text",
    "id": "FAuX0uU5k9qD"
   },
   "source": [
    "### **Task 11**:\n",
    "Once we get the optimal lambdas for Ridge and Lasso, we train these models using these lambdas on the full training data, and then report their performance."
   ]
  },
  {
   "cell_type": "code",
   "execution_count": 19,
   "metadata": {
    "colab": {
     "base_uri": "https://localhost:8080/",
     "height": 221
    },
    "colab_type": "code",
    "executionInfo": {
     "elapsed": 3259,
     "status": "ok",
     "timestamp": 1596436131187,
     "user": {
      "displayName": "Haozhe Zhang",
      "photoUrl": "https://lh3.googleusercontent.com/a-/AOh14GhewCb1FImnjURCLugyfalL8wVXJomnuoEHUckN=s64",
      "userId": "15943369882491692800"
     },
     "user_tz": -480
    },
    "id": "VmwHESkg77zK",
    "outputId": "9bb9c1cf-1649-40e6-9162-2244525d9446"
   },
   "outputs": [
    {
     "name": "stdout",
     "output_type": "stream",
     "text": [
      "For Ridge Regression with using degree 2 polynomial expansion and lambda = 0.0001\n",
      "--------------------------------------------------------------------------------\n",
      "\n",
      "MSE (Training) = 0.0000\n",
      "MSE (Testing)  = 0.0000\n",
      "\n",
      "\n",
      "For Lasso with using degree 2 polynomial expansion and lambda = 0.0001\n",
      "---------------------------------------------------------------------\n",
      "\n",
      "MSE (Training) = 0.0000\n",
      "MSE (Testing)  = 0.0000\n"
     ]
    }
   ],
   "source": [
    "# TODO: train the Ridge and Lasso models using the optimal parameters, and\n",
    "#       report their MSE\n",
    "###################################################\n",
    "##### YOUR CODE STARTS HERE #######################\n",
    "###################################################\n",
    "# Hints: train these models on the full training data\n",
    "mse_ridge_train = 0\n",
    "mse_ridge_test = 0\n",
    "mse_lasso_train = 0\n",
    "mse_lasso_test = 0\n",
    "###################################################\n",
    "##### YOUR CODE ENDS HERE #########################\n",
    "###################################################\n",
    "\n",
    "# Report the result\n",
    "print('For Ridge Regression with using degree %d polynomial expansion and lambda = %.4f' % (2, lam_ridge))\n",
    "print('--------------------------------------------------------------------------------\\n')\n",
    "print('MSE (Training) = %.4f' % mse_ridge_train)\n",
    "print('MSE (Testing)  = %.4f' % mse_ridge_test)\n",
    "\n",
    "print('\\n\\nFor Lasso with using degree %d polynomial expansion and lambda = %.4f' % (2, lam_lasso))\n",
    "print('---------------------------------------------------------------------\\n')\n",
    "print('MSE (Training) = %.4f' % mse_lasso_train)\n",
    "print('MSE (Testing)  = %.4f' % mse_lasso_test)"
   ]
  },
  {
   "cell_type": "markdown",
   "metadata": {
    "colab_type": "text",
    "id": "Os9tKKLd8gMU"
   },
   "source": [
    "## Optional: Try Larger Degrees using K-fold Cross Validation\n",
    "\n"
   ]
  },
  {
   "cell_type": "markdown",
   "metadata": {
    "colab_type": "text",
    "id": "sfqRAlv1PBXi"
   },
   "source": [
    "### **Task 12**\n",
    "This is an optional task, which worths 5 bonus points.\n",
    "\n",
    "The task is to try basis expansions with higher degrees (up to degree 4) and find the degree that results the best performance. \n",
    "Instead of always using the same validation data, we use k-fold cross-validation to find the optimal hyperparameters. \n",
    "\n",
    "Your task is to report the optimal hyperparameters (the basis expansion degree and the lambdas) and the MSEs of the Ridge and Lasso when using these optimal hyperparameters. \n",
    "\n",
    "Hints: Use `KFold` to do this automatically. "
   ]
  },
  {
   "cell_type": "code",
   "execution_count": 20,
   "metadata": {
    "colab": {},
    "colab_type": "code",
    "id": "kpwY7UtQ8l-0"
   },
   "outputs": [],
   "source": [
    "# KFold\n",
    "from sklearn.model_selection import KFold\n",
    "\n",
    "###################################################\n",
    "##### YOUR CODE STARTS HERE #######################\n",
    "###################################################\n",
    "\n",
    "\n",
    "###################################################\n",
    "##### YOUR CODE ENDS HERE #########################\n",
    "###################################################"
   ]
  },
  {
   "cell_type": "code",
   "execution_count": null,
   "metadata": {},
   "outputs": [],
   "source": []
  }
 ],
 "metadata": {
  "colab": {
   "authorship_tag": "ABX9TyP96ktvsOI4PiuW52tcNLjx",
   "collapsed_sections": [],
   "name": "Practical1_starter.ipynb",
   "provenance": [],
   "toc_visible": true
  },
  "kernelspec": {
   "display_name": "Python 3.10.5 64-bit",
   "language": "python",
   "name": "python3"
  },
  "language_info": {
   "codemirror_mode": {
    "name": "ipython",
    "version": 3
   },
   "file_extension": ".py",
   "mimetype": "text/x-python",
   "name": "python",
   "nbconvert_exporter": "python",
   "pygments_lexer": "ipython3",
   "version": "3.10.5"
  },
  "vscode": {
   "interpreter": {
    "hash": "369f2c481f4da34e4445cda3fffd2e751bd1c4d706f27375911949ba6bb62e1c"
   }
  }
 },
 "nbformat": 4,
 "nbformat_minor": 4
}
