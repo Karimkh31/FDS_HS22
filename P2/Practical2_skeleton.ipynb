{
 "cells": [
  {
   "cell_type": "markdown",
   "metadata": {},
   "source": [
    "# Practical 2 : Generative and Discriminative Models\n"
   ]
  },
  {
   "cell_type": "markdown",
   "metadata": {},
   "source": [
    "In this practical, we will compare the Naïve Bayes Classifier (NBC) and Logistic Regression on several\n",
    "datasets. As part of the practical you should read briefly the following paper:\n",
    "\n"
   ]
  },
  {
   "cell_type": "markdown",
   "metadata": {},
   "source": [
    "**On Discriminative vs. Generative classifiers: A comparison of logistic regression\n",
    "and naive Bayes**  \n",
    "*Andrew Y. Ng and Michael I. Jordan*  \n",
    "Advances in Neural Information Processing Systems (NIPS) 2001.\n",
    "\n",
    "The paper is available on OLAT. "
   ]
  },
  {
   "cell_type": "markdown",
   "metadata": {},
   "source": [
    "You should read the Introduction and the Experiments sections. The goal of this practical is\n",
    "to qualitatively reproduce some of the experimental results in this paper. You are strongly\n",
    "encouraged to read the rest of the paper, which is rather short and straightforward to read,\n",
    "though some of you may want to skip the formal proofs."
   ]
  },
  {
   "cell_type": "markdown",
   "metadata": {},
   "source": [
    "## Naïve Bayes Classifier (NBC)"
   ]
  },
  {
   "cell_type": "markdown",
   "metadata": {},
   "source": [
    "You should implement a Naïve Bayes Classifier from scartch using NumPy. To keep your code tidy,\n",
    "we recommend implementing it as a class. \n",
    "The classifier should be able to handle binary and continuous features. \n",
    "To earn the bonus points, the classifier should be able to handle categorical features as well. \n",
    "Suppose the data has 3\n",
    "different features, the first being binary, the second being continuous and the third being categorical. Write an implementation that you can initialise as follows:\n",
    "\n",
    "    nbc = NBC(feature_types=['b', 'r', 'c'])"
   ]
  },
  {
   "cell_type": "markdown",
   "metadata": {},
   "source": [
    "Along the lines of classifiers provided in sklearn, you want to implement two more functions,\n",
    "**fit** and **predict**. \n",
    "Recall the joint distribution of a generative model: $p(\\mathbf{x}, y \\mid \\theta, \\pi) = p(y \\mid \\pi) \\cdot p(\\mathbf{x} \\mid y, \\theta)$.\n",
    "The **fit** function is to estimate all the parameters ($\\theta$ and $\\pi$) of the NBC, i.e., train the classifier. The **predict** function computes the probabilities that the new input belongs to all classes and\n",
    "then returns the class that has the largest probability, i.e., makes a prediction.\n",
    "\n",
    "    nbc.fit(X_train, y_train)\n",
    "    ypredicted = nbc.predict(X_test)\n",
    "    test_accuracy = np.mean(ypredicted == ytest)"
   ]
  },
  {
   "cell_type": "markdown",
   "metadata": {},
   "source": [
    "Here we import the libraries. "
   ]
  },
  {
   "cell_type": "code",
   "execution_count": 123,
   "metadata": {},
   "outputs": [],
   "source": [
    "import pandas as pd\n",
    "import scipy.stats\n",
    "from scipy.stats import bernoulli\n",
    "from sklearn.preprocessing import StandardScaler\n",
    "%matplotlib inline\n",
    "import pylab\n",
    "pylab.rcParams['figure.figsize'] = (10., 10.)\n",
    "\n",
    "import pickle as cp\n",
    "import matplotlib.pyplot as plt\n",
    "import numpy as np\n"
   ]
  },
  {
   "cell_type": "markdown",
   "metadata": {},
   "source": [
    "### Class-conditional distributions\n",
    "\n",
    "Before implementing NBC, we first implement the class-conditional distributions $p(\\mathbf{x} \\mid y, \\theta)$. Your implementation should have two functions: **estimate** and **get_log_probability**. \n",
    "\n",
    "- The **estimate** function takes data as input and models the data using some distribution $p(x \\mid \\theta)$, where $\\theta$ is the parameters of this distribution. The function estimates the parameters $\\theta$ using maximum likelihood estimators (MLE). \n",
    "For example, in the case of continuous features, we use the Gaussian distribution to model the data. The estimate function will find the parameters $\\mu$ and $\\sigma$ for the Gaussian distribution with respect to the input data. \n",
    "\n",
    "- The **get_log_probability** function takes as input a new data point $x_{new}$ and returns the log of $p(x_{new} \\mid \\theta)$. For the Gaussian distribution, the function get_probability will return $\\mathcal{N}(x_{new} \\mid \\mu, \\sigma^2)$. "
   ]
  },
  {
   "cell_type": "markdown",
   "metadata": {},
   "source": [
    "For different types of features, you need to use different distributions.\n",
    "You can import statistic libraries (e.g., `scipy.stats`) for the implementation of the distributions. \n",
    "\n",
    "- For **continuous features**: Use Gaussian distribution\n",
    "    https://docs.scipy.org/doc/scipy/reference/generated/scipy.stats.norm.html\n",
    "- For **binary features**: Use Bernoulli distribution \n",
    "    https://docs.scipy.org/doc/scipy/reference/generated/scipy.stats.bernoulli.html\n",
    "- For **categorical features**: Use Multinoulli distribution (The multinoulli distribution is a special case of the multinomial distribution, where the number of trials is 1)\n",
    "    https://docs.scipy.org/doc/scipy/reference/generated/scipy.stats.multinomial.html\n",
    "\n",
    "Example: https://stackoverflow.com/questions/12412895/how-to-calculate-probability-in-a-normal-distribution-given-mean-standard-devi\n"
   ]
  },
  {
   "cell_type": "markdown",
   "metadata": {},
   "source": [
    "**Implementation Issues:**\n",
    "- The probabilities can be very small. To avoid underflow issues, you should compute the log of the probabilities. Read more: (Mur) Chapter 3.5.3 / Lecture Notes\n",
    "- The variance for Gaussian distributions should never be exactly 0, so in\n",
    "case your calculated variance is 0, you may want to set it to a small value such as 1e − 6. This is to ensure that your code never encounters division by zero or\n",
    "taking logarithms of 0 errors. \n",
    "For this practical, please set the small value to 1e-6.\n",
    "- Laplace/Additive smoothing: You want to ensure that the estimates for the parameter for the Bernoulli and Multinoulli random variables is never exactly 0 or 1. For this reason you should consider using Laplace smoothing (https://en.wikipedia.org/wiki/Additive_smoothing).\n",
    "For this practical, please set alpha to 1.\n",
    "- For simplicity, you can assume the data values for binary features are integers from {0,1} and the data for a categorical feature with M categories are integers from {0, ..., M-1}.\n",
    "- Fell free to add auxiliary functions or change the parameters of the functions. If you change the parameters of the functions, make sure you change the tests accordingly, so we can test your code.\n"
   ]
  },
  {
   "cell_type": "code",
   "execution_count": 217,
   "metadata": {},
   "outputs": [],
   "source": [
    "ALPHA = 1.0 # for additive smoothing\n",
    "SMALL_VALUE = 1e-6\n",
    "\n",
    "# Distribution for continuous features\n",
    "class ContFeatureParam:\n",
    "    def __init__(self) -> None:\n",
    "        self.normal_dist = None\n",
    "    def estimate(self, X):\n",
    "        # TODO: Estimate the parameters for the Gaussian distribution \n",
    "        # so that it best describes the input data X\n",
    "        X_mean = np.mean(X)\n",
    "        X_std_div = np.std(X)\n",
    "        # check if variance is 0 and set it to small value \n",
    "        if(X_std_div == 0):\n",
    "            X_std_div = SMALL_VALUE\n",
    "        #my_normal_dist = 1/(np.sqrt(2*np.pi) * X_std_div) * \\\n",
    "        #    np.exp(-0.5*(((X-X_mean)/X_std_div)**2))\n",
    "        normal_dist = scipy.stats.norm(X_mean, X_std_div)\n",
    "        self.normal_dist = normal_dist\n",
    "        \n",
    "        return self\n",
    "\n",
    "    def get_log_probability(self, X_new):\n",
    "        # TODO: return the log of the density values for the input values X_new\n",
    "        # The code below is just for compilation. \n",
    "        # You need to replace it by your own code.\n",
    "        if self.normal_dist:\n",
    "            return self.normal_dist.pdf(X_new)\n",
    "        else: \n",
    "            raise Exception(\"Please run the estimate function first\")\n",
    "\n",
    "# Distribution for binary features\n",
    "class BinFeatureParam:\n",
    "    def __init__(self) -> None:\n",
    "        self.p1 = None\n",
    "    def estimate(self, X):\n",
    "        # TODO: Estimate the parameters for the Bernoulli distribution \n",
    "        # so that it best describes the input data X\n",
    "        # X is a vector with binary values X = np.array([0,0,1,1,0,1,0,1,1,1])\n",
    "        count_ones = np.count_nonzero(X==1)\n",
    "        array_size = X.size\n",
    "        # without Laplace smoothing\n",
    "        #p1 = count_ones/array_size\n",
    "        \n",
    "        #Laplace smoothing\n",
    "        p1 = (count_ones + ALPHA)/(array_size + 2*ALPHA)\n",
    "        \n",
    "        #print(p1)\n",
    "        \n",
    "        self.p1 = p1\n",
    "        \n",
    "        return self\n",
    "\n",
    "    def get_log_probability(self, X_new):\n",
    "        # TODO: return the log of the probability values for the input values X_new\n",
    "        \n",
    "        # convert X_new to float to accept the probability\n",
    "        #print(bernoulli.logpmf(X_new,self.p1))\n",
    "        X_new = X_new.astype(np.float32)\n",
    "        if(self.p1):\n",
    "            #X_new[X_new == 1] = self.p1\n",
    "            #X_new[X_new == 0] = 1 - self.p1\n",
    "            #return np.log(X_new)\n",
    "            return bernoulli.pmf(X_new, self.p1)\n",
    "        else:\n",
    "            raise Exception(\"Please run the estimate function first\")\n",
    "\n",
    "\n",
    "\n",
    "# Distribution for categorical features\n",
    "class CatFeatureParam:\n",
    "    \n",
    "    # we need to know the number of categories for the categorical feature\n",
    "    def __init__(self, num_of_categories):\n",
    "        self._num_of_categories = num_of_categories\n",
    "        self.prob = None\n",
    "    \n",
    "    def estimate(self, X):\n",
    "        # TODO: Estimate the parameters for the Multinoulli distribution\n",
    "        # so that it best describes the input data X\n",
    "        \n",
    "        prob = {}\n",
    "        # initialize our dict \n",
    "        for i in range(self._num_of_categories):\n",
    "            prob.update({i: 0})\n",
    "            \n",
    "        unique, counts = np.unique(X, return_counts=True)\n",
    "        # without laplace \n",
    "        # counts = counts / X.size\n",
    "        #assert counts.sum() == 1\n",
    "\n",
    "        prob.update(dict(zip(unique, counts)))\n",
    "        # Laplace smoothing\n",
    "        for key, val in prob.items():\n",
    "            prob[key] = (val + ALPHA)/(self._num_of_categories*ALPHA + X.size)\n",
    "        \n",
    "        assert sum(prob.values()) == 1\n",
    "       \n",
    "\n",
    "            \n",
    "        #print(prob)\n",
    "        self.prob = prob\n",
    "        return self\n",
    "\n",
    "\n",
    "    def get_log_probability(self, X_new):\n",
    "        # TODO: return the log of the probability values for the input values X_new\n",
    "        if self.prob:\n",
    "            return np.array([self.prob.get(key) for key in X_new])\n",
    "            \n"
   ]
  },
  {
   "cell_type": "markdown",
   "metadata": {},
   "source": [
    "**Tests:**\n",
    "    \n",
    "We will use the code below to test the correctness of your code."
   ]
  },
  {
   "cell_type": "code",
   "execution_count": 196,
   "metadata": {},
   "outputs": [
    {
     "name": "stdout",
     "output_type": "stream",
     "text": [
      "[0.00352912 0.04843274 0.23558711 0.40616623]\n"
     ]
    }
   ],
   "source": [
    "# continuous features\n",
    "\n",
    "X = np.array([2.70508547,2.10499698,1.76019132,3.42016431,3.47037973,3.67435061,1.84749286,4.3388506,2.27818252,4.65165335])\n",
    "\n",
    "param = ContFeatureParam()\n",
    "param.estimate(X)\n",
    "probs = param.get_log_probability(np.array([0,1,2,3]))\n",
    "print(probs)"
   ]
  },
  {
   "cell_type": "code",
   "execution_count": 203,
   "metadata": {},
   "outputs": [
    {
     "name": "stdout",
     "output_type": "stream",
     "text": [
      "[0.41666667 0.58333333]\n"
     ]
    }
   ],
   "source": [
    "# binary features\n",
    "\n",
    "X = np.array([0,0,1,1,0,1,0,1,1,1])\n",
    "\n",
    "\n",
    "\n",
    "param = BinFeatureParam()\n",
    "param.estimate(X)\n",
    "probs = param.get_log_probability(np.array([0,1]))\n",
    "print(probs)"
   ]
  },
  {
   "cell_type": "code",
   "execution_count": 221,
   "metadata": {},
   "outputs": [
    {
     "name": "stdout",
     "output_type": "stream",
     "text": [
      "[0.14285714 0.11428571 0.14285714 0.08571429 0.11428571 0.05714286\n",
      " 0.14285714 0.02857143 0.11428571 0.05714286]\n"
     ]
    }
   ],
   "source": [
    "# categorical features (bonus task)\n",
    "\n",
    "X = np.array([0,6,5,4,0,6,6,4,1,1,2,3,8,8,1,6,4,9,0,2,2,3,8,0,2])\n",
    "param = CatFeatureParam(max(X)+1)\n",
    "param.estimate(X)\n",
    "probs = param.get_log_probability(np.array([0,1,2,3,4,5,6,7,8,9]))\n",
    "print(probs)"
   ]
  },
  {
   "cell_type": "markdown",
   "metadata": {},
   "source": [
    "### Implement NBC\n",
    "\n",
    "We are now ready to implement NBC. We follow the structure of models in scikit-learn. We implement NBC as a class with functions **init**, **fit** and **predict**.\n",
    "The **init** function takes as input the types of features and initialise the classifier. The **fit** function takes the training data as input and estimates the parameters. The **predict** function predicts the label for the input data. "
   ]
  },
  {
   "cell_type": "markdown",
   "metadata": {},
   "source": [
    "**Implementation Issues:**\n",
    "- You should use matrix operations rather than loops. In general, loops over classes or features are OK, but loops over the rows of data are not a good idea.\n",
    "- The probabilities can be very small. To avoid underflow issues, you should do the calculations in log space. Read more: (Mur) Chapter 3.5.3 / Lecture Note\n",
    "- For simplicity, you can assume the data values for binary features are integers from {0, 1} and the data for a categorical feature with M categories are integers from {0, ..., M-1}.\n",
    "- Fell free to add auxiliary functions or change the parameters of the functions. If you change the parameters of the functions, make sure you change the tests accordingly, so we can test your code."
   ]
  },
  {
   "cell_type": "code",
   "execution_count": 215,
   "metadata": {},
   "outputs": [],
   "source": [
    "# Your task is to implement the three functions of NBC. \n",
    "\n",
    "class NBC:\n",
    "    # Inputs:\n",
    "    #   feature_types: the array of the types of the features, e.g., feature_types=['b', 'r', 'c']\n",
    "    def __init__(self, feature_types=[]):\n",
    "        self.feature_types = feature_types\n",
    "        # make sure at least 1 feature type is passed\n",
    "        assert len(self.feature_types) >=1\n",
    "        self.class_prior = None\n",
    "        self.estimation_all_classes = {}\n",
    "        self.unique_classes = []\n",
    "     \n",
    "\n",
    "        \n",
    "        \n",
    "        \n",
    "\n",
    "\n",
    "        \n",
    "    # The function uses the input data to estimate all the parameters of the NBC\n",
    "    def fit(self, X, y):\n",
    "        # compute class prior\n",
    "        # get count of unique classes\n",
    "        unique_classes, counts = np.unique(y, return_counts=True)\n",
    "        self.unique_classes = unique_classes\n",
    "        # compute appearance of each class in the data\n",
    "        counts = counts / y.size\n",
    "        self.class_prior = dict(zip(unique_classes,counts))\n",
    "        print(self.class_prior)\n",
    "        \n",
    "        # Estimate a parameter 𝜃𝑗𝑐 for each class 𝑐 and each feature 𝑗\n",
    "        for c in self.unique_classes:\n",
    "            estimations_c = []\n",
    "            for j in range(len(self.feature_types)):\n",
    "                # get each column (feature) of class c \n",
    "                column_j_c = X[y == c][:, j]\n",
    "                \n",
    "                # estimate each column and add to array\n",
    "                \n",
    "                # choose prober estimator\n",
    "                if (self.feature_types[j] == 'r'):\n",
    "                    estimations_c.append(ContFeatureParam().estimate(column_j_c))\n",
    "                elif (self.feature_types[j] == 'b'):\n",
    "                    estimations_c.append(\n",
    "                        BinFeatureParam().estimate(column_j_c))\n",
    "                elif (self.feature_types[j] == 'c'):\n",
    "                    estimations_c.append(\n",
    "                        CatFeatureParam(max(column_j_c)).estimate(column_j_c))\n",
    "\n",
    "            # add estimation of class c to our main estimation array\n",
    "            self.estimation_all_classes.update({c:estimations_c})\n",
    "        \n",
    "        #print(self.estimation_all_classes)\n",
    "                \n",
    "        \n",
    "\n",
    "\n",
    "        \n",
    "                \n",
    "                \n",
    "    # The function takes the data X as input, and predicts the class for the data\n",
    "    def predict(self, X):\n",
    "        # for predict we just take the 𝑝(𝑦 = 𝑐|𝝅)=𝜋c\n",
    "        df = pd.DataFrame()\n",
    "        loc_for_df = 0\n",
    "        for c in self.unique_classes:\n",
    "            pi_c = self.class_prior[c]\n",
    "            prob_c = np.ones(shape=(X.shape))\n",
    "            #print(prob_c.shape)\n",
    "            for j in range(len(self.feature_types)):\n",
    "                column_j = X[:, j]\n",
    "                prob_c[:,j] = self.estimation_all_classes[c][j].get_log_probability(column_j)\n",
    "            df.insert(loc_for_df, c,(np.prod(prob_c, axis=1)*pi_c))\n",
    "            loc_for_df+=1\n",
    "        df[\"prediction\"] = df.idxmax(axis=1)\n",
    "        #display(df)\n",
    "        return df[\"prediction\"]\n",
    "\n",
    "\n",
    "            \n"
   ]
  },
  {
   "cell_type": "markdown",
   "metadata": {},
   "source": [
    "**Tests**\n",
    "\n",
    "We will use the code below to check your code."
   ]
  },
  {
   "cell_type": "code",
   "execution_count": 208,
   "metadata": {},
   "outputs": [
    {
     "name": "stdout",
     "output_type": "stream",
     "text": [
      "{0: 0.4166666666666667, 1: 0.4166666666666667, 2: 0.16666666666666666}\n",
      "Accuracy: 0.9333333333333333\n"
     ]
    }
   ],
   "source": [
    "# All features of the iris dataset are continuous.\n",
    "from sklearn.datasets import load_iris\n",
    "iris = load_iris()\n",
    "X, y = iris['data'], iris['target']\n",
    "\n",
    "df = pd.DataFrame(data=X)\n",
    "df.insert(4,4, y)\n",
    "# displaying the dataframe\n",
    "#display(df)\n",
    "\n",
    "N, D = X.shape\n",
    "Ntrain = int(0.8 * N)\n",
    "Xtrain = X[:Ntrain]\n",
    "ytrain = y[:Ntrain]\n",
    "Xtest = X[Ntrain:]\n",
    "ytest = y[Ntrain:]\n",
    "\n",
    "\n",
    "nbc_iris = NBC(feature_types=['r', 'r', 'r', 'r'])\n",
    "nbc_iris.fit(Xtrain, ytrain)\n",
    "yhat = nbc_iris.predict(Xtest)\n",
    "test_accuracy = np.mean(yhat == ytest)\n",
    "\n",
    "print(\"Accuracy:\", test_accuracy) # should be larger than 90%\n",
    "#print(yhat)"
   ]
  },
  {
   "cell_type": "code",
   "execution_count": 209,
   "metadata": {},
   "outputs": [
    {
     "name": "stdout",
     "output_type": "stream",
     "text": [
      "{0: 0.5405405405405406, 1: 0.4594594594594595}\n",
      "Accuracy: 0.8723404255319149\n"
     ]
    }
   ],
   "source": [
    "# All features of this dataset are binary\n",
    "import pandas as pd\n",
    "data = pd.read_csv('./datasets/binary_test.csv', header=None)\n",
    "data = data.to_numpy()\n",
    "\n",
    "X = data[:,1:]\n",
    "y = data[:,0]\n",
    "df = pd.DataFrame(data=X)\n",
    "df.insert(16, 16, y)\n",
    "\n",
    "#display(df)\n",
    "N, D = X.shape\n",
    "Ntrain = int(0.8 * N)\n",
    "Xtrain = X[:Ntrain]\n",
    "ytrain = y[:Ntrain]\n",
    "Xtest = X[Ntrain:]\n",
    "ytest = y[Ntrain:]\n",
    "\n",
    "\n",
    "nbc = NBC(feature_types=['b'] * 16)\n",
    "nbc.fit(Xtrain, ytrain)\n",
    "yhat = nbc.predict(Xtest)\n",
    "test_accuracy = np.mean(yhat == ytest)\n",
    "\n",
    "print(\"Accuracy:\", test_accuracy) # should be larger than 85%\n",
    "#print(yhat)"
   ]
  },
  {
   "cell_type": "code",
   "execution_count": 216,
   "metadata": {},
   "outputs": [
    {
     "name": "stdout",
     "output_type": "stream",
     "text": [
      "{0: 0.6929824561403509, 1: 0.30701754385964913}\n"
     ]
    },
    {
     "ename": "AssertionError",
     "evalue": "",
     "output_type": "error",
     "traceback": [
      "\u001b[1;31m---------------------------------------------------------------------------\u001b[0m",
      "\u001b[1;31mAssertionError\u001b[0m                            Traceback (most recent call last)",
      "Cell \u001b[1;32mIn [216], line 19\u001b[0m\n\u001b[0;32m     15\u001b[0m ytest \u001b[39m=\u001b[39m y[Ntrain:]\n\u001b[0;32m     18\u001b[0m nbc \u001b[39m=\u001b[39m NBC(feature_types\u001b[39m=\u001b[39m[\u001b[39m'\u001b[39m\u001b[39mc\u001b[39m\u001b[39m'\u001b[39m] \u001b[39m*\u001b[39m \u001b[39m9\u001b[39m)\n\u001b[1;32m---> 19\u001b[0m nbc\u001b[39m.\u001b[39;49mfit(Xtrain, ytrain)\n\u001b[0;32m     20\u001b[0m yhat \u001b[39m=\u001b[39m nbc\u001b[39m.\u001b[39mpredict(Xtest)\n\u001b[0;32m     21\u001b[0m test_accuracy \u001b[39m=\u001b[39m np\u001b[39m.\u001b[39mmean(yhat \u001b[39m==\u001b[39m ytest)\n",
      "Cell \u001b[1;32mIn [215], line 49\u001b[0m, in \u001b[0;36mNBC.fit\u001b[1;34m(self, X, y)\u001b[0m\n\u001b[0;32m     45\u001b[0m         estimations_c\u001b[39m.\u001b[39mappend(\n\u001b[0;32m     46\u001b[0m             BinFeatureParam()\u001b[39m.\u001b[39mestimate(column_j_c))\n\u001b[0;32m     47\u001b[0m     \u001b[39melif\u001b[39;00m (\u001b[39mself\u001b[39m\u001b[39m.\u001b[39mfeature_types[j] \u001b[39m==\u001b[39m \u001b[39m'\u001b[39m\u001b[39mc\u001b[39m\u001b[39m'\u001b[39m):\n\u001b[0;32m     48\u001b[0m         estimations_c\u001b[39m.\u001b[39mappend(\n\u001b[1;32m---> 49\u001b[0m             CatFeatureParam(\u001b[39mmax\u001b[39;49m(column_j_c))\u001b[39m.\u001b[39;49mestimate(column_j_c))\n\u001b[0;32m     51\u001b[0m \u001b[39m# add estimation of class c to our main estimation array\u001b[39;00m\n\u001b[0;32m     52\u001b[0m \u001b[39mself\u001b[39m\u001b[39m.\u001b[39mestimation_all_classes\u001b[39m.\u001b[39mupdate({c:estimations_c})\n",
      "Cell \u001b[1;32mIn [211], line 97\u001b[0m, in \u001b[0;36mCatFeatureParam.estimate\u001b[1;34m(self, X)\u001b[0m\n\u001b[0;32m     94\u001b[0m \u001b[39mfor\u001b[39;00m key, val \u001b[39min\u001b[39;00m prob\u001b[39m.\u001b[39mitems():\n\u001b[0;32m     95\u001b[0m     prob[key] \u001b[39m=\u001b[39m (val \u001b[39m+\u001b[39m ALPHA)\u001b[39m/\u001b[39m(\u001b[39mself\u001b[39m\u001b[39m.\u001b[39m_num_of_categories\u001b[39m*\u001b[39mALPHA \u001b[39m+\u001b[39m X\u001b[39m.\u001b[39msize)\n\u001b[1;32m---> 97\u001b[0m \u001b[39massert\u001b[39;00m \u001b[39msum\u001b[39m(prob\u001b[39m.\u001b[39mvalues()) \u001b[39m==\u001b[39m \u001b[39m1\u001b[39m\n\u001b[0;32m    101\u001b[0m \u001b[39m#print(prob)\u001b[39;00m\n\u001b[0;32m    102\u001b[0m \u001b[39mself\u001b[39m\u001b[39m.\u001b[39mprob \u001b[39m=\u001b[39m prob\n",
      "\u001b[1;31mAssertionError\u001b[0m: "
     ]
    }
   ],
   "source": [
    "# All features of this dataset are categorical (bonus task)\n",
    "\n",
    "data = pd.read_csv('./datasets/categorical_test.csv', header=None)\n",
    "data = data.to_numpy()\n",
    "\n",
    "#print(data.shape)\n",
    "X = data[:,:-1]\n",
    "y = data[:,-1]\n",
    "\n",
    "N, D = X.shape\n",
    "Ntrain = int(0.8 * N)\n",
    "Xtrain = X[:Ntrain]\n",
    "ytrain = y[:Ntrain]\n",
    "Xtest = X[Ntrain:]\n",
    "ytest = y[Ntrain:]\n",
    "\n",
    "\n",
    "nbc = NBC(feature_types=['c'] * 9)\n",
    "nbc.fit(Xtrain, ytrain)\n",
    "yhat = nbc.predict(Xtest)\n",
    "test_accuracy = np.mean(yhat == ytest)\n",
    "\n",
    "print(\"Accuracy:\", test_accuracy) # should be larger than 65%\n",
    "#print(yhat) "
   ]
  },
  {
   "cell_type": "markdown",
   "metadata": {},
   "source": [
    "## Logistic Regression"
   ]
  },
  {
   "cell_type": "markdown",
   "metadata": {},
   "source": [
    "For logistic regression (LR), you should use the implementation in scikit-learn. Add the following\n",
    "line to import the LR model."
   ]
  },
  {
   "cell_type": "code",
   "execution_count": 32,
   "metadata": {},
   "outputs": [],
   "source": [
    "from sklearn.linear_model import LogisticRegression"
   ]
  },
  {
   "cell_type": "markdown",
   "metadata": {},
   "source": [
    "Check the scikit-learn documentation for the Logistic Regression model:\n",
    "- http://scikit-learn.org/stable/modules/linear_model.html#logistic-regression\n",
    "- http://scikit-learn.org/stable/modules/generated/sklearn.linear_model.LogisticRegression.html#sklearn.linear_model.LogisticRegression\n"
   ]
  },
  {
   "cell_type": "markdown",
   "metadata": {},
   "source": [
    "## Comparing NBC and LR"
   ]
  },
  {
   "cell_type": "markdown",
   "metadata": {},
   "source": [
    "### Experiments\n",
    "\n",
    "The experiment is to compare the classification error of the NBC and LR trained on increasingly larger training datasets. \n",
    "Since the datasets are so small, you should do this multiple times and\n",
    "average the classification error. One run should look as follows:\n",
    "- Shuffle the data, put 20% aside for testing.\n",
    "    \n",
    "    ```N, D = X.shape\n",
    "    Ntrain = int(0.8 * N)\n",
    "    shuffler = np.random.permutation(N)\n",
    "    Xtrain = X[shuffler[:Ntrain]]\n",
    "    ytrain = y[shuffler[:Ntrain]]\n",
    "    Xtest = X[shuffler[Ntrain:]]\n",
    "    ytest = y[shuffler[Ntrain:]]\n",
    "    \n",
    "    ```  \n",
    "\n",
    "\n",
    "- Train the classifiers with increasingly more data. For example, we can train classifiers with 10%, 20%, ..., 100% of the training data. For each case store the classification errors on the test set of the classifiers.\n",
    "\n",
    "You may want to repeat this with at least 200 random permutations (possibly as large as 1000)\n",
    "to average out the test error across the runs. In the end, you will get average test errors as a function of the size of the training data. \n",
    "We have written for you the function for making the plots for the experiments. "
   ]
  },
  {
   "cell_type": "code",
   "execution_count": 33,
   "metadata": {},
   "outputs": [],
   "source": [
    "# inputs:\n",
    "#   nbc: Naive Bayes Classifier\n",
    "#   lr: Logistic Regression Classifier\n",
    "#   X, y: data\n",
    "#   num_runs: we need repeat num_runs times and store average results\n",
    "#   num_splits: we want to compare the two models on increasingly larger training sets.\n",
    "#               num_splits defines the number of increasing steps. \n",
    "# outputs:\n",
    "#   the arrays of the test errors across the runs of the two classifiers \n",
    "def compareNBCvsLR(nbc, lr, X, y, num_runs=200, num_splits=10):\n",
    "    # The code below is just for compilation. \n",
    "    # You need to replace it by your own code.\n",
    "    ###################################################\n",
    "    ##### YOUR CODE STARTS HERE #######################\n",
    "    ###################################################\n",
    "    tst_errs_nbc = []\n",
    "    tst_errs_lr = []\n",
    "    \n",
    "    return tst_errs_nbc, tst_errs_lr\n",
    "    ###################################################\n",
    "    ##### YOUR CODE ENDS HERE #########################\n",
    "    ###################################################"
   ]
  },
  {
   "cell_type": "code",
   "execution_count": 34,
   "metadata": {},
   "outputs": [],
   "source": [
    "def makePlot(tst_errs_nbc, tst_errs_lr, title=None, num_splits=10):\n",
    "    fig = plt.figure()\n",
    "    ax = fig.add_subplot(1, 1, 1)\n",
    "\n",
    "    ax.tick_params(axis='both', labelsize=20)\n",
    "\n",
    "    ax.set_xlabel('Percent of training data used', fontsize=20)\n",
    "    ax.set_ylabel('Classification Error', fontsize=20)\n",
    "    if title is not None: ax.set_title(title, fontsize=25)\n",
    "\n",
    "    xaxis_scale = [(i + 1) * (100/num_splits) for i in range(num_splits)]\n",
    "    plt.plot(xaxis_scale, tst_errs_nbc, label='Naive Bayes')\n",
    "    plt.plot(xaxis_scale, tst_errs_lr, label='Logistic Regression', linestyle='dashed')\n",
    "    \n",
    "    ax.legend(loc='upper right', fontsize=20)"
   ]
  },
  {
   "cell_type": "markdown",
   "metadata": {},
   "source": [
    "### Datasets"
   ]
  },
  {
   "cell_type": "markdown",
   "metadata": {},
   "source": [
    "Tasks: For each dataset,\n",
    "1. prepare the data for the two classifiers, e.g., handle missing values, handle text/categorical data, etc.\n",
    "2. compare the two classifiers on the dataset and generate the plots\n",
    "3. write a short report of how you prepare the data and your observations of the comparison "
   ]
  },
  {
   "cell_type": "markdown",
   "metadata": {},
   "source": [
    "**Dataset 1: Iris Dataset**\n",
    "\n",
    "https://scikit-learn.org/stable/auto_examples/datasets/plot_iris_dataset.html"
   ]
  },
  {
   "cell_type": "code",
   "execution_count": 35,
   "metadata": {},
   "outputs": [],
   "source": [
    "# TODO: insert your code for experiments\n",
    "###################################################\n",
    "##### YOUR CODE STARTS HERE #######################\n",
    "###################################################\n",
    "from sklearn.datasets import load_iris\n",
    "iris = load_iris()\n",
    "\n",
    "\n",
    "###################################################\n",
    "##### YOUR CODE ENDS HERE #########################\n",
    "###################################################"
   ]
  },
  {
   "cell_type": "markdown",
   "metadata": {},
   "source": [
    "**Dataset 2: Voting Dataset**\n",
    "\n",
    "https://archive.ics.uci.edu/ml/datasets/congressional+voting+records\n",
    "\n",
    "The logistic regression line meets the naive bayes line early in the plot. To see it clearer, you should use only 100 data points from the dataset for this experiment."
   ]
  },
  {
   "cell_type": "code",
   "execution_count": 36,
   "metadata": {},
   "outputs": [
    {
     "name": "stdout",
     "output_type": "stream",
     "text": [
      "<class 'pandas.core.frame.DataFrame'>\n",
      "RangeIndex: 435 entries, 0 to 434\n",
      "Data columns (total 17 columns):\n",
      " #   Column                                  Non-Null Count  Dtype \n",
      "---  ------                                  --------------  ----- \n",
      " 0   label                                   435 non-null    object\n",
      " 1   handicapped-infants                     423 non-null    object\n",
      " 2   water-project-cost-sharing              387 non-null    object\n",
      " 3   adoption-of-the-budget-resolution       424 non-null    object\n",
      " 4   physician-fee-freeze                    424 non-null    object\n",
      " 5   el-salvador-aid                         420 non-null    object\n",
      " 6   religious-groups-in-schools             424 non-null    object\n",
      " 7   anti-satellite-test-ban                 421 non-null    object\n",
      " 8   aid-to-nicaraguan-contras               420 non-null    object\n",
      " 9   mx-missile                              413 non-null    object\n",
      " 10  immigration                             428 non-null    object\n",
      " 11  synfuels-corporation-cutback            414 non-null    object\n",
      " 12  education-spending                      404 non-null    object\n",
      " 13  superfund-right-to-sue                  410 non-null    object\n",
      " 14  crime                                   418 non-null    object\n",
      " 15  duty-free-exports                       407 non-null    object\n",
      " 16  export-administration-act-south-africa  331 non-null    object\n",
      "dtypes: object(17)\n",
      "memory usage: 57.9+ KB\n"
     ]
    }
   ],
   "source": [
    "# load the dataset\n",
    "# TODO: insert your code for experiments\n",
    "###################################################\n",
    "##### YOUR CODE STARTS HERE #######################\n",
    "###################################################\n",
    "voting = pd.read_csv('./datasets/voting.csv')\n",
    "\n",
    "voting.info()\n",
    "\n",
    "###################################################\n",
    "##### YOUR CODE ENDS HERE #########################\n",
    "###################################################"
   ]
  }
 ],
 "metadata": {
  "kernelspec": {
   "display_name": "Python 3.10.5 64-bit",
   "language": "python",
   "name": "python3"
  },
  "language_info": {
   "codemirror_mode": {
    "name": "ipython",
    "version": 3
   },
   "file_extension": ".py",
   "mimetype": "text/x-python",
   "name": "python",
   "nbconvert_exporter": "python",
   "pygments_lexer": "ipython3",
   "version": "3.10.5"
  },
  "vscode": {
   "interpreter": {
    "hash": "369f2c481f4da34e4445cda3fffd2e751bd1c4d706f27375911949ba6bb62e1c"
   }
  }
 },
 "nbformat": 4,
 "nbformat_minor": 4
}
